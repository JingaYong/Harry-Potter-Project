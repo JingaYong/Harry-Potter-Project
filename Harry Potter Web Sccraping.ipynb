{
 "cells": [
  {
   "cell_type": "markdown",
   "id": "e6e5f927-098c-4d41-a986-ae4686eea39d",
   "metadata": {},
   "source": [
    "# Harry Potter Characters Relationship Networking\n",
    "Project Idea - Thu Vu Data Analytics.\n",
    "#### This project revolves around web scrapping and network analysis."
   ]
  },
  {
   "cell_type": "markdown",
   "id": "64c6d483-c058-4b86-9851-7d665c6dcb75",
   "metadata": {},
   "source": [
    "## Data Mining and Cleaning\n",
    "### Import Libraries\n",
    "First we will be importing the libraries.\\\n",
    "We will be using selenium for web scrapping in thsi project, other options beautiful soap, scrapy(for large projects)\n",
    "* Selenium WebDriver is a web framework that permits you to execute cross-browser tests. This tool is used for automating web-based application testing to verify that it performs expectedly.\n",
    "* webdriver_manager - is reuired to install the ChromeDriverManager(), which is used to open the chrome app"
   ]
  },
  {
   "cell_type": "code",
   "execution_count": 3,
   "id": "14062188-4443-45fd-86c3-e8ab8c0a4613",
   "metadata": {},
   "outputs": [],
   "source": [
    "import pandas as pd\n",
    "import numpy as np\n",
    "import spacy as sp\n",
    "# pip install selenium\n",
    "from selenium import webdriver\n",
    "# pip install webdriver_manager\n",
    "from webdriver_manager.chrome import ChromeDriverManager\n",
    "import warnings\n",
    "import pickle\n",
    "warnings.filterwarnings('ignore')"
   ]
  },
  {
   "cell_type": "code",
   "execution_count": 21,
   "id": "2ed7029b-4aae-49b4-ab77-b8d83b4b3975",
   "metadata": {},
   "outputs": [
    {
     "name": "stderr",
     "output_type": "stream",
     "text": [
      "[WDM] - Downloading: 100%|████████████████████████████████████████████████████████████████████████████████████████| 6.68M/6.68M [05:03<00:00, 23.1kB/s]\n"
     ]
    }
   ],
   "source": [
    "driver = webdriver.Chrome(ChromeDriverManager().install())"
   ]
  },
  {
   "cell_type": "markdown",
   "id": "96e6d20d-0b63-4325-9d4b-78b542986236",
   "metadata": {
    "tags": []
   },
   "source": [
    "## * Jump to Web Scrapping Part 2 incase you are trying to execute this project\n",
    "### Web Scrapping \n"
   ]
  },
  {
   "cell_type": "markdown",
   "id": "c96a3ccd-7eb1-4b95-9b0e-d7d2ec9c45fb",
   "metadata": {
    "tags": []
   },
   "source": [
    "* The interesting part, we specify the url from which we would like to scrape content, and suggest the driver to open it.\n",
    "* Next after the inspecting the web page I identified that the webpage had the characters seperated in different web pages alphabetical.\n",
    "* So I created a list of links for each alphabet.\n",
    "* Next we get the elements(character names) by the itemprop of the span tags and their respective description by the class name of the div tag. For this we first inspect the web page to identify the any specific identifier to get the elements. Add the character name along with its respective desciption into a description. Then we convert it into dataframe, which will be helpful in further cleaning and wrangling."
   ]
  },
  {
   "cell_type": "code",
   "execution_count": 3,
   "id": "af8d665c-2d91-4239-8f7e-86317008eb1e",
   "metadata": {},
   "outputs": [],
   "source": [
    "page_url = \"https://www.hp-lexicon.org/characters/#index_of_characters\"\n",
    "\n",
    "driver.get(page_url)"
   ]
  },
  {
   "cell_type": "code",
   "execution_count": 23,
   "id": "ecd8348e-fab4-4004-858b-026c1b0fb21d",
   "metadata": {},
   "outputs": [],
   "source": [
    "from selenium.webdriver.common.by import By"
   ]
  },
  {
   "cell_type": "code",
   "execution_count": 5,
   "id": "e9fe5756-b483-4405-a483-060b90d6a9b0",
   "metadata": {},
   "outputs": [],
   "source": [
    "def listAlphabet():\n",
    "  return [chr(i) for i in range(ord('A'),ord('Z')+1)]\n",
    "\n",
    "atoz = listAlphabet()"
   ]
  },
  {
   "cell_type": "code",
   "execution_count": 6,
   "id": "799f990d-b3bf-4f4b-b83e-087d7a469534",
   "metadata": {},
   "outputs": [],
   "source": [
    "alpha_links = []\n",
    "for i in atoz:\n",
    "    l = \"https://www.hp-lexicon.org/character/?letter=\"+i\n",
    "    alpha_links.append(l)"
   ]
  },
  {
   "cell_type": "code",
   "execution_count": null,
   "id": "97c39a8b-d1b2-48d0-9c14-14e9285141a6",
   "metadata": {},
   "outputs": [],
   "source": [
    "alpha_links"
   ]
  },
  {
   "cell_type": "code",
   "execution_count": 19,
   "id": "b627bd2b-1653-4d3c-b1e7-ba3780c04abe",
   "metadata": {},
   "outputs": [],
   "source": [
    "characters = []\n",
    "for link in alpha_links:\n",
    "    driver.get(link)\n",
    "    chars = driver.find_elements(By.XPATH, \"//span[@itemprop='headline']\")\n",
    "    descs = driver.find_elements(By.CLASS_NAME,\"descr\")\n",
    "    for ch,d in zip(chars,descs):\n",
    "        characters.append({'char_name':ch.text,'description':d.text})"
   ]
  },
  {
   "cell_type": "code",
   "execution_count": 21,
   "id": "7ec41fc3-5d81-47ab-8cb9-747de82022ac",
   "metadata": {},
   "outputs": [],
   "source": [
    "hp_characters = pd.DataFrame(characters)"
   ]
  },
  {
   "cell_type": "code",
   "execution_count": 22,
   "id": "0a828e1a-93d4-46a9-aa12-5543ed003073",
   "metadata": {},
   "outputs": [
    {
     "data": {
      "text/html": [
       "<div>\n",
       "<style scoped>\n",
       "    .dataframe tbody tr th:only-of-type {\n",
       "        vertical-align: middle;\n",
       "    }\n",
       "\n",
       "    .dataframe tbody tr th {\n",
       "        vertical-align: top;\n",
       "    }\n",
       "\n",
       "    .dataframe thead th {\n",
       "        text-align: right;\n",
       "    }\n",
       "</style>\n",
       "<table border=\"1\" class=\"dataframe\">\n",
       "  <thead>\n",
       "    <tr style=\"text-align: right;\">\n",
       "      <th></th>\n",
       "      <th>char_name</th>\n",
       "      <th>description</th>\n",
       "    </tr>\n",
       "  </thead>\n",
       "  <tbody>\n",
       "    <tr>\n",
       "      <th>0</th>\n",
       "      <td>Mrs. Abbott</td>\n",
       "      <td>Mrs. Abbott was the mother of Hannah Abbott, a...</td>\n",
       "    </tr>\n",
       "    <tr>\n",
       "      <th>1</th>\n",
       "      <td>Abbott family</td>\n",
       "      <td>The Abbott family is a wizarding family that o...</td>\n",
       "    </tr>\n",
       "    <tr>\n",
       "      <th>2</th>\n",
       "      <td>Hannah Abbott</td>\n",
       "      <td>Hannah Abbott is a Hufflepuff student in Harry...</td>\n",
       "    </tr>\n",
       "    <tr>\n",
       "      <th>3</th>\n",
       "      <td>Abel Treetops</td>\n",
       "      <td>Abel Treetops was a wizard from Cincinnati who...</td>\n",
       "    </tr>\n",
       "    <tr>\n",
       "      <th>4</th>\n",
       "      <td>Euan Abercrombie</td>\n",
       "      <td>Euan Abercrombie was a small boy with prominen...</td>\n",
       "    </tr>\n",
       "  </tbody>\n",
       "</table>\n",
       "</div>"
      ],
      "text/plain": [
       "          char_name                                        description\n",
       "0       Mrs. Abbott  Mrs. Abbott was the mother of Hannah Abbott, a...\n",
       "1     Abbott family  The Abbott family is a wizarding family that o...\n",
       "2     Hannah Abbott  Hannah Abbott is a Hufflepuff student in Harry...\n",
       "3     Abel Treetops  Abel Treetops was a wizard from Cincinnati who...\n",
       "4  Euan Abercrombie  Euan Abercrombie was a small boy with prominen..."
      ]
     },
     "execution_count": 22,
     "metadata": {},
     "output_type": "execute_result"
    }
   ],
   "source": [
    "hp_characters.head(5)"
   ]
  },
  {
   "cell_type": "code",
   "execution_count": 23,
   "id": "391fc599-315f-49e3-b2e4-854caf3966a8",
   "metadata": {},
   "outputs": [],
   "source": [
    "hp_characters.to_csv('character_details.csv',index=False)"
   ]
  },
  {
   "cell_type": "code",
   "execution_count": 4,
   "id": "7240e5b1-f5e7-4bdc-887c-e709ba89509c",
   "metadata": {},
   "outputs": [
    {
     "data": {
      "text/html": [
       "<div>\n",
       "<style scoped>\n",
       "    .dataframe tbody tr th:only-of-type {\n",
       "        vertical-align: middle;\n",
       "    }\n",
       "\n",
       "    .dataframe tbody tr th {\n",
       "        vertical-align: top;\n",
       "    }\n",
       "\n",
       "    .dataframe thead th {\n",
       "        text-align: right;\n",
       "    }\n",
       "</style>\n",
       "<table border=\"1\" class=\"dataframe\">\n",
       "  <thead>\n",
       "    <tr style=\"text-align: right;\">\n",
       "      <th></th>\n",
       "      <th>char_name</th>\n",
       "      <th>description</th>\n",
       "    </tr>\n",
       "  </thead>\n",
       "  <tbody>\n",
       "    <tr>\n",
       "      <th>0</th>\n",
       "      <td>Mrs. Abbott</td>\n",
       "      <td>Mrs. Abbott was the mother of Hannah Abbott, a...</td>\n",
       "    </tr>\n",
       "    <tr>\n",
       "      <th>1</th>\n",
       "      <td>Abbott family</td>\n",
       "      <td>The Abbott family is a wizarding family that o...</td>\n",
       "    </tr>\n",
       "    <tr>\n",
       "      <th>2</th>\n",
       "      <td>Hannah Abbott</td>\n",
       "      <td>Hannah Abbott is a Hufflepuff student in Harry...</td>\n",
       "    </tr>\n",
       "    <tr>\n",
       "      <th>3</th>\n",
       "      <td>Abel Treetops</td>\n",
       "      <td>Abel Treetops was a wizard from Cincinnati who...</td>\n",
       "    </tr>\n",
       "    <tr>\n",
       "      <th>4</th>\n",
       "      <td>Euan Abercrombie</td>\n",
       "      <td>Euan Abercrombie was a small boy with prominen...</td>\n",
       "    </tr>\n",
       "    <tr>\n",
       "      <th>...</th>\n",
       "      <td>...</td>\n",
       "      <td>...</td>\n",
       "    </tr>\n",
       "    <tr>\n",
       "      <th>2015</th>\n",
       "      <td>Georgi Zdravko</td>\n",
       "      <td>Georgi Zdravko played Keeper for the Bulgarian...</td>\n",
       "    </tr>\n",
       "    <tr>\n",
       "      <th>2016</th>\n",
       "      <td>Zograf</td>\n",
       "      <td>Zograf played Keeper for the Bulgarian Nationa...</td>\n",
       "    </tr>\n",
       "    <tr>\n",
       "      <th>2017</th>\n",
       "      <td>Zonko</td>\n",
       "      <td>Founder(?) of Zonko’s Joke Shop. Possibly a re...</td>\n",
       "    </tr>\n",
       "    <tr>\n",
       "      <th>2018</th>\n",
       "      <td>Valentina Vázquez</td>\n",
       "      <td>Valentina Vázquez was President of the Argenti...</td>\n",
       "    </tr>\n",
       "    <tr>\n",
       "      <th>2019</th>\n",
       "      <td>Zygmunt Budge</td>\n",
       "      <td>Zygmunt Budge is considered to be one of the m...</td>\n",
       "    </tr>\n",
       "  </tbody>\n",
       "</table>\n",
       "<p>2020 rows × 2 columns</p>\n",
       "</div>"
      ],
      "text/plain": [
       "              char_name                                        description\n",
       "0           Mrs. Abbott  Mrs. Abbott was the mother of Hannah Abbott, a...\n",
       "1         Abbott family  The Abbott family is a wizarding family that o...\n",
       "2         Hannah Abbott  Hannah Abbott is a Hufflepuff student in Harry...\n",
       "3         Abel Treetops  Abel Treetops was a wizard from Cincinnati who...\n",
       "4      Euan Abercrombie  Euan Abercrombie was a small boy with prominen...\n",
       "...                 ...                                                ...\n",
       "2015     Georgi Zdravko  Georgi Zdravko played Keeper for the Bulgarian...\n",
       "2016             Zograf  Zograf played Keeper for the Bulgarian Nationa...\n",
       "2017              Zonko  Founder(?) of Zonko’s Joke Shop. Possibly a re...\n",
       "2018  Valentina Vázquez  Valentina Vázquez was President of the Argenti...\n",
       "2019      Zygmunt Budge  Zygmunt Budge is considered to be one of the m...\n",
       "\n",
       "[2020 rows x 2 columns]"
      ]
     },
     "execution_count": 4,
     "metadata": {},
     "output_type": "execute_result"
    }
   ],
   "source": [
    "chars = pd.read_csv('character_details.csv')\n",
    "chars"
   ]
  },
  {
   "cell_type": "markdown",
   "id": "64330f7c-ecf2-47a2-9c82-627cf41605f3",
   "metadata": {},
   "source": [
    "### Data Preprocessing\n",
    "###### import re #(regex-regular expressions)"
   ]
  },
  {
   "cell_type": "markdown",
   "id": "5335ee69-7d22-4fbd-b2ef-c9ead1e0f5f8",
   "metadata": {},
   "source": [
    "* First I create a sepearate column to strore the bracketed info from the character name, and removed it from the character name\n",
    "* Next I removed rows without descriptions\n",
    "* Then dropped duplicate rows\n",
    "* Next I dropped rows, where the character name had more than 4 elements or the starting alphabet was lower\n",
    "* Then I did a few modifications for character names containing the/The\n",
    "* After all this I gave up, because I thought of a better approach, a more simple one to be honest"
   ]
  },
  {
   "cell_type": "code",
   "execution_count": 4,
   "id": "49336a41-30c9-4a02-961d-d8d7f80d34e8",
   "metadata": {},
   "outputs": [],
   "source": [
    "import re"
   ]
  },
  {
   "cell_type": "code",
   "execution_count": 44,
   "id": "823fbe70-777e-4080-9227-8a697f909633",
   "metadata": {},
   "outputs": [],
   "source": [
    "extra = []\n",
    "for i in range(chars.shape[0]):\n",
    "    s = chars.iloc[i]['char_name'].find('(')\n",
    "    if s>0:\n",
    "        t = chars.iloc[i]['char_name'].split(' ')\n",
    "        extra.append(t[-1])\n",
    "    else:\n",
    "        extra.append('')"
   ]
  },
  {
   "cell_type": "code",
   "execution_count": 46,
   "id": "1b0cdf4b-e176-4198-9464-c29f322a117b",
   "metadata": {},
   "outputs": [],
   "source": [
    "chars['extra'] = extra"
   ]
  },
  {
   "cell_type": "code",
   "execution_count": 57,
   "id": "dfeff2d4-6b6f-4251-9455-d3e574e64ef2",
   "metadata": {},
   "outputs": [],
   "source": [
    "chars.to_csv('character_details.csv',index=False)"
   ]
  },
  {
   "cell_type": "code",
   "execution_count": null,
   "id": "760a25fa-0749-4d7c-a63f-17e3ce8ca163",
   "metadata": {},
   "outputs": [],
   "source": [
    "chars =  pd.read_csv('character_details.csv')"
   ]
  },
  {
   "cell_type": "code",
   "execution_count": 59,
   "id": "fe1d4ed3-7831-447a-ac75-74769dbf0492",
   "metadata": {},
   "outputs": [],
   "source": [
    "chars['char_name'] = chars['char_name'].apply(lambda x:re.sub(\"[\\(].*?[\\)]\",\"\",x))"
   ]
  },
  {
   "cell_type": "code",
   "execution_count": 65,
   "id": "49a976b9-92dc-45fe-9da1-3861fdf929ed",
   "metadata": {},
   "outputs": [],
   "source": [
    "chars.to_csv('character_details.csv',index=False)"
   ]
  },
  {
   "cell_type": "code",
   "execution_count": 3,
   "id": "493d1c6d-79bb-45d3-a637-2d3c3b775254",
   "metadata": {},
   "outputs": [],
   "source": [
    "chars =  pd.read_csv('character_details.csv')"
   ]
  },
  {
   "cell_type": "code",
   "execution_count": 5,
   "id": "2c508054-df48-45fb-abc8-482fe452da5f",
   "metadata": {},
   "outputs": [],
   "source": [
    "chars = chars[chars['description'].notnull()]"
   ]
  },
  {
   "cell_type": "code",
   "execution_count": 6,
   "id": "0d0e2945-25d1-4131-8027-2c7ac50d55fd",
   "metadata": {},
   "outputs": [],
   "source": [
    "chars.reset_index(inplace = True, drop = True)"
   ]
  },
  {
   "cell_type": "code",
   "execution_count": 8,
   "id": "5c6c89ab-735c-42fd-bc8a-c1cf074b762a",
   "metadata": {},
   "outputs": [
    {
     "data": {
      "text/html": [
       "<div>\n",
       "<style scoped>\n",
       "    .dataframe tbody tr th:only-of-type {\n",
       "        vertical-align: middle;\n",
       "    }\n",
       "\n",
       "    .dataframe tbody tr th {\n",
       "        vertical-align: top;\n",
       "    }\n",
       "\n",
       "    .dataframe thead th {\n",
       "        text-align: right;\n",
       "    }\n",
       "</style>\n",
       "<table border=\"1\" class=\"dataframe\">\n",
       "  <thead>\n",
       "    <tr style=\"text-align: right;\">\n",
       "      <th></th>\n",
       "      <th>char_name</th>\n",
       "      <th>description</th>\n",
       "      <th>extra</th>\n",
       "    </tr>\n",
       "  </thead>\n",
       "  <tbody>\n",
       "    <tr>\n",
       "      <th>152</th>\n",
       "      <td>Ali Bashir</td>\n",
       "      <td>Ali Bashir was a flying carpet merchant who wa...</td>\n",
       "      <td>NaN</td>\n",
       "    </tr>\n",
       "    <tr>\n",
       "      <th>171</th>\n",
       "      <td>Amy Benson</td>\n",
       "      <td>Amy Benson was a child from the orphanage whom...</td>\n",
       "      <td>NaN</td>\n",
       "    </tr>\n",
       "    <tr>\n",
       "      <th>179</th>\n",
       "      <td>Bertram Aubrey</td>\n",
       "      <td>Hogwarts student, 1970s James Potter and Siriu...</td>\n",
       "      <td>NaN</td>\n",
       "    </tr>\n",
       "    <tr>\n",
       "      <th>190</th>\n",
       "      <td>Alphard Black</td>\n",
       "      <td>Alphard Black was an uncle to Sirius and Regul...</td>\n",
       "      <td>NaN</td>\n",
       "    </tr>\n",
       "    <tr>\n",
       "      <th>191</th>\n",
       "      <td>Annis Black</td>\n",
       "      <td>Annis Black was a hag whose letter is publishe...</td>\n",
       "      <td>NaN</td>\n",
       "    </tr>\n",
       "    <tr>\n",
       "      <th>...</th>\n",
       "      <td>...</td>\n",
       "      <td>...</td>\n",
       "      <td>...</td>\n",
       "    </tr>\n",
       "    <tr>\n",
       "      <th>2013</th>\n",
       "      <td>Zamira Gulch</td>\n",
       "      <td>Zamira Gulch was the author of Practical House...</td>\n",
       "      <td>NaN</td>\n",
       "    </tr>\n",
       "    <tr>\n",
       "      <th>2014</th>\n",
       "      <td>Ladislaw Zamojski</td>\n",
       "      <td>Ladislaw Zamojski is a talented Chaser on the ...</td>\n",
       "      <td>NaN</td>\n",
       "    </tr>\n",
       "    <tr>\n",
       "      <th>2015</th>\n",
       "      <td>Georgi Zdravko</td>\n",
       "      <td>Georgi Zdravko played Keeper for the Bulgarian...</td>\n",
       "      <td>NaN</td>\n",
       "    </tr>\n",
       "    <tr>\n",
       "      <th>2018</th>\n",
       "      <td>Valentina Vázquez</td>\n",
       "      <td>Valentina Vázquez was President of the Argenti...</td>\n",
       "      <td>NaN</td>\n",
       "    </tr>\n",
       "    <tr>\n",
       "      <th>2019</th>\n",
       "      <td>Zygmunt Budge</td>\n",
       "      <td>Zygmunt Budge is considered to be one of the m...</td>\n",
       "      <td>NaN</td>\n",
       "    </tr>\n",
       "  </tbody>\n",
       "</table>\n",
       "<p>595 rows × 3 columns</p>\n",
       "</div>"
      ],
      "text/plain": [
       "              char_name                                        description  \\\n",
       "152          Ali Bashir  Ali Bashir was a flying carpet merchant who wa...   \n",
       "171          Amy Benson  Amy Benson was a child from the orphanage whom...   \n",
       "179      Bertram Aubrey  Hogwarts student, 1970s James Potter and Siriu...   \n",
       "190       Alphard Black  Alphard Black was an uncle to Sirius and Regul...   \n",
       "191         Annis Black  Annis Black was a hag whose letter is publishe...   \n",
       "...                 ...                                                ...   \n",
       "2013       Zamira Gulch  Zamira Gulch was the author of Practical House...   \n",
       "2014  Ladislaw Zamojski  Ladislaw Zamojski is a talented Chaser on the ...   \n",
       "2015     Georgi Zdravko  Georgi Zdravko played Keeper for the Bulgarian...   \n",
       "2018  Valentina Vázquez  Valentina Vázquez was President of the Argenti...   \n",
       "2019      Zygmunt Budge  Zygmunt Budge is considered to be one of the m...   \n",
       "\n",
       "     extra  \n",
       "152    NaN  \n",
       "171    NaN  \n",
       "179    NaN  \n",
       "190    NaN  \n",
       "191    NaN  \n",
       "...    ...  \n",
       "2013   NaN  \n",
       "2014   NaN  \n",
       "2015   NaN  \n",
       "2018   NaN  \n",
       "2019   NaN  \n",
       "\n",
       "[595 rows x 3 columns]"
      ]
     },
     "execution_count": 8,
     "metadata": {},
     "output_type": "execute_result"
    }
   ],
   "source": [
    "chars[chars.duplicated()]"
   ]
  },
  {
   "cell_type": "code",
   "execution_count": 13,
   "id": "373bebd8-d992-4a11-9997-81aa07f7a0df",
   "metadata": {},
   "outputs": [
    {
     "data": {
      "text/html": [
       "<div>\n",
       "<style scoped>\n",
       "    .dataframe tbody tr th:only-of-type {\n",
       "        vertical-align: middle;\n",
       "    }\n",
       "\n",
       "    .dataframe tbody tr th {\n",
       "        vertical-align: top;\n",
       "    }\n",
       "\n",
       "    .dataframe thead th {\n",
       "        text-align: right;\n",
       "    }\n",
       "</style>\n",
       "<table border=\"1\" class=\"dataframe\">\n",
       "  <thead>\n",
       "    <tr style=\"text-align: right;\">\n",
       "      <th></th>\n",
       "      <th>char_name</th>\n",
       "      <th>description</th>\n",
       "      <th>extra</th>\n",
       "    </tr>\n",
       "  </thead>\n",
       "  <tbody>\n",
       "    <tr>\n",
       "      <th>40</th>\n",
       "      <td>Ali Bashir</td>\n",
       "      <td>Ali Bashir was a flying carpet merchant who wa...</td>\n",
       "      <td>NaN</td>\n",
       "    </tr>\n",
       "    <tr>\n",
       "      <th>152</th>\n",
       "      <td>Ali Bashir</td>\n",
       "      <td>Ali Bashir was a flying carpet merchant who wa...</td>\n",
       "      <td>NaN</td>\n",
       "    </tr>\n",
       "  </tbody>\n",
       "</table>\n",
       "</div>"
      ],
      "text/plain": [
       "      char_name                                        description extra\n",
       "40   Ali Bashir  Ali Bashir was a flying carpet merchant who wa...   NaN\n",
       "152  Ali Bashir  Ali Bashir was a flying carpet merchant who wa...   NaN"
      ]
     },
     "execution_count": 13,
     "metadata": {},
     "output_type": "execute_result"
    }
   ],
   "source": [
    "chars.loc[chars.char_name=='Ali Bashir']"
   ]
  },
  {
   "cell_type": "code",
   "execution_count": 7,
   "id": "80fba3fa-bbfa-49aa-bfb3-0c1b5c36c394",
   "metadata": {},
   "outputs": [
    {
     "data": {
      "text/plain": [
       "595"
      ]
     },
     "execution_count": 7,
     "metadata": {},
     "output_type": "execute_result"
    }
   ],
   "source": [
    "len(chars[chars.duplicated()])"
   ]
  },
  {
   "cell_type": "code",
   "execution_count": 7,
   "id": "2c0f977a-0fa1-415c-b380-e81b1710151a",
   "metadata": {},
   "outputs": [],
   "source": [
    "chars.drop_duplicates(inplace=True, ignore_index=True)"
   ]
  },
  {
   "cell_type": "code",
   "execution_count": 28,
   "id": "3c92d7bb-2549-48b3-a6c0-7d5047ae0416",
   "metadata": {},
   "outputs": [
    {
     "data": {
      "text/html": [
       "<div>\n",
       "<style scoped>\n",
       "    .dataframe tbody tr th:only-of-type {\n",
       "        vertical-align: middle;\n",
       "    }\n",
       "\n",
       "    .dataframe tbody tr th {\n",
       "        vertical-align: top;\n",
       "    }\n",
       "\n",
       "    .dataframe thead th {\n",
       "        text-align: right;\n",
       "    }\n",
       "</style>\n",
       "<table border=\"1\" class=\"dataframe\">\n",
       "  <thead>\n",
       "    <tr style=\"text-align: right;\">\n",
       "      <th></th>\n",
       "      <th>char_name</th>\n",
       "      <th>description</th>\n",
       "      <th>extra</th>\n",
       "    </tr>\n",
       "  </thead>\n",
       "  <tbody>\n",
       "    <tr>\n",
       "      <th>0</th>\n",
       "      <td>Mrs. Abbott</td>\n",
       "      <td>Mrs. Abbott was the mother of Hannah Abbott, a...</td>\n",
       "      <td>NaN</td>\n",
       "    </tr>\n",
       "    <tr>\n",
       "      <th>1</th>\n",
       "      <td>Abbott family</td>\n",
       "      <td>The Abbott family is a wizarding family that o...</td>\n",
       "      <td>NaN</td>\n",
       "    </tr>\n",
       "    <tr>\n",
       "      <th>2</th>\n",
       "      <td>Hannah Abbott</td>\n",
       "      <td>Hannah Abbott is a Hufflepuff student in Harry...</td>\n",
       "      <td>NaN</td>\n",
       "    </tr>\n",
       "    <tr>\n",
       "      <th>3</th>\n",
       "      <td>Abel Treetops</td>\n",
       "      <td>Abel Treetops was a wizard from Cincinnati who...</td>\n",
       "      <td>NaN</td>\n",
       "    </tr>\n",
       "    <tr>\n",
       "      <th>4</th>\n",
       "      <td>Euan Abercrombie</td>\n",
       "      <td>Euan Abercrombie was a small boy with prominen...</td>\n",
       "      <td>NaN</td>\n",
       "    </tr>\n",
       "    <tr>\n",
       "      <th>...</th>\n",
       "      <td>...</td>\n",
       "      <td>...</td>\n",
       "      <td>...</td>\n",
       "    </tr>\n",
       "    <tr>\n",
       "      <th>1420</th>\n",
       "      <td>two young witches on toy broomsticks</td>\n",
       "      <td>NaN</td>\n",
       "      <td>NaN</td>\n",
       "    </tr>\n",
       "    <tr>\n",
       "      <th>1421</th>\n",
       "      <td>Yusuf Kama</td>\n",
       "      <td>Yusuf Kama was a French wizard of Senegalese a...</td>\n",
       "      <td>NaN</td>\n",
       "    </tr>\n",
       "    <tr>\n",
       "      <th>1422</th>\n",
       "      <td>Yvonne</td>\n",
       "      <td>Yvonne was a friend of Petunia Dursley who was...</td>\n",
       "      <td>NaN</td>\n",
       "    </tr>\n",
       "    <tr>\n",
       "      <th>1423</th>\n",
       "      <td>Zograf</td>\n",
       "      <td>Zograf played Keeper for the Bulgarian Nationa...</td>\n",
       "      <td>NaN</td>\n",
       "    </tr>\n",
       "    <tr>\n",
       "      <th>1424</th>\n",
       "      <td>Zonko</td>\n",
       "      <td>Founder(?) of Zonko’s Joke Shop. Possibly a re...</td>\n",
       "      <td>NaN</td>\n",
       "    </tr>\n",
       "  </tbody>\n",
       "</table>\n",
       "<p>1425 rows × 3 columns</p>\n",
       "</div>"
      ],
      "text/plain": [
       "                                 char_name  \\\n",
       "0                              Mrs. Abbott   \n",
       "1                            Abbott family   \n",
       "2                            Hannah Abbott   \n",
       "3                            Abel Treetops   \n",
       "4                         Euan Abercrombie   \n",
       "...                                    ...   \n",
       "1420  two young witches on toy broomsticks   \n",
       "1421                            Yusuf Kama   \n",
       "1422                                Yvonne   \n",
       "1423                                Zograf   \n",
       "1424                                 Zonko   \n",
       "\n",
       "                                            description extra  \n",
       "0     Mrs. Abbott was the mother of Hannah Abbott, a...   NaN  \n",
       "1     The Abbott family is a wizarding family that o...   NaN  \n",
       "2     Hannah Abbott is a Hufflepuff student in Harry...   NaN  \n",
       "3     Abel Treetops was a wizard from Cincinnati who...   NaN  \n",
       "4     Euan Abercrombie was a small boy with prominen...   NaN  \n",
       "...                                                 ...   ...  \n",
       "1420                                                NaN   NaN  \n",
       "1421  Yusuf Kama was a French wizard of Senegalese a...   NaN  \n",
       "1422  Yvonne was a friend of Petunia Dursley who was...   NaN  \n",
       "1423  Zograf played Keeper for the Bulgarian Nationa...   NaN  \n",
       "1424  Founder(?) of Zonko’s Joke Shop. Possibly a re...   NaN  \n",
       "\n",
       "[1425 rows x 3 columns]"
      ]
     },
     "execution_count": 28,
     "metadata": {},
     "output_type": "execute_result"
    }
   ],
   "source": [
    "chars"
   ]
  },
  {
   "cell_type": "code",
   "execution_count": 8,
   "id": "9b92d476-2e4a-44c9-ba82-ee05865cc68d",
   "metadata": {},
   "outputs": [],
   "source": [
    "nt = []\n",
    "for i in range(chars.shape[0]):\n",
    "    k = chars.iloc[i].char_name.split()\n",
    "    if (len(k)>=3 and k[0][0].islower()) or len(k)>4:\n",
    "        nt.append(i)"
   ]
  },
  {
   "cell_type": "code",
   "execution_count": 9,
   "id": "a36b1e64-be00-465c-bdfd-a5849f8b0ec9",
   "metadata": {},
   "outputs": [],
   "source": [
    "chars.drop(chars.index[nt],inplace=True)"
   ]
  },
  {
   "cell_type": "code",
   "execution_count": 10,
   "id": "d404094a-3fc8-4d8a-9e68-35e4e81ec195",
   "metadata": {},
   "outputs": [
    {
     "data": {
      "text/html": [
       "<div>\n",
       "<style scoped>\n",
       "    .dataframe tbody tr th:only-of-type {\n",
       "        vertical-align: middle;\n",
       "    }\n",
       "\n",
       "    .dataframe tbody tr th {\n",
       "        vertical-align: top;\n",
       "    }\n",
       "\n",
       "    .dataframe thead th {\n",
       "        text-align: right;\n",
       "    }\n",
       "</style>\n",
       "<table border=\"1\" class=\"dataframe\">\n",
       "  <thead>\n",
       "    <tr style=\"text-align: right;\">\n",
       "      <th></th>\n",
       "      <th>char_name</th>\n",
       "      <th>description</th>\n",
       "      <th>extra</th>\n",
       "    </tr>\n",
       "  </thead>\n",
       "  <tbody>\n",
       "    <tr>\n",
       "      <th>0</th>\n",
       "      <td>Mrs. Abbott</td>\n",
       "      <td>Mrs. Abbott was the mother of Hannah Abbott, a...</td>\n",
       "      <td>NaN</td>\n",
       "    </tr>\n",
       "    <tr>\n",
       "      <th>1</th>\n",
       "      <td>Abbott family</td>\n",
       "      <td>The Abbott family is a wizarding family that o...</td>\n",
       "      <td>NaN</td>\n",
       "    </tr>\n",
       "    <tr>\n",
       "      <th>2</th>\n",
       "      <td>Hannah Abbott</td>\n",
       "      <td>Hannah Abbott is a Hufflepuff student in Harry...</td>\n",
       "      <td>NaN</td>\n",
       "    </tr>\n",
       "    <tr>\n",
       "      <th>3</th>\n",
       "      <td>Abel Treetops</td>\n",
       "      <td>Abel Treetops was a wizard from Cincinnati who...</td>\n",
       "      <td>NaN</td>\n",
       "    </tr>\n",
       "    <tr>\n",
       "      <th>4</th>\n",
       "      <td>Euan Abercrombie</td>\n",
       "      <td>Euan Abercrombie was a small boy with prominen...</td>\n",
       "      <td>NaN</td>\n",
       "    </tr>\n",
       "    <tr>\n",
       "      <th>...</th>\n",
       "      <td>...</td>\n",
       "      <td>...</td>\n",
       "      <td>...</td>\n",
       "    </tr>\n",
       "    <tr>\n",
       "      <th>1223</th>\n",
       "      <td>Young Red-Haired Witch</td>\n",
       "      <td>In early September of 1927, a young red-haired...</td>\n",
       "      <td>NaN</td>\n",
       "    </tr>\n",
       "    <tr>\n",
       "      <th>1224</th>\n",
       "      <td>Yusuf Kama</td>\n",
       "      <td>Yusuf Kama was a French wizard of Senegalese a...</td>\n",
       "      <td>NaN</td>\n",
       "    </tr>\n",
       "    <tr>\n",
       "      <th>1225</th>\n",
       "      <td>Yvonne</td>\n",
       "      <td>Yvonne was a friend of Petunia Dursley who was...</td>\n",
       "      <td>NaN</td>\n",
       "    </tr>\n",
       "    <tr>\n",
       "      <th>1226</th>\n",
       "      <td>Zograf</td>\n",
       "      <td>Zograf played Keeper for the Bulgarian Nationa...</td>\n",
       "      <td>NaN</td>\n",
       "    </tr>\n",
       "    <tr>\n",
       "      <th>1227</th>\n",
       "      <td>Zonko</td>\n",
       "      <td>Founder(?) of Zonko’s Joke Shop. Possibly a re...</td>\n",
       "      <td>NaN</td>\n",
       "    </tr>\n",
       "  </tbody>\n",
       "</table>\n",
       "<p>1228 rows × 3 columns</p>\n",
       "</div>"
      ],
      "text/plain": [
       "                   char_name  \\\n",
       "0                Mrs. Abbott   \n",
       "1              Abbott family   \n",
       "2              Hannah Abbott   \n",
       "3              Abel Treetops   \n",
       "4           Euan Abercrombie   \n",
       "...                      ...   \n",
       "1223  Young Red-Haired Witch   \n",
       "1224              Yusuf Kama   \n",
       "1225                  Yvonne   \n",
       "1226                  Zograf   \n",
       "1227                   Zonko   \n",
       "\n",
       "                                            description extra  \n",
       "0     Mrs. Abbott was the mother of Hannah Abbott, a...   NaN  \n",
       "1     The Abbott family is a wizarding family that o...   NaN  \n",
       "2     Hannah Abbott is a Hufflepuff student in Harry...   NaN  \n",
       "3     Abel Treetops was a wizard from Cincinnati who...   NaN  \n",
       "4     Euan Abercrombie was a small boy with prominen...   NaN  \n",
       "...                                                 ...   ...  \n",
       "1223  In early September of 1927, a young red-haired...   NaN  \n",
       "1224  Yusuf Kama was a French wizard of Senegalese a...   NaN  \n",
       "1225  Yvonne was a friend of Petunia Dursley who was...   NaN  \n",
       "1226  Zograf played Keeper for the Bulgarian Nationa...   NaN  \n",
       "1227  Founder(?) of Zonko’s Joke Shop. Possibly a re...   NaN  \n",
       "\n",
       "[1228 rows x 3 columns]"
      ]
     },
     "execution_count": 10,
     "metadata": {},
     "output_type": "execute_result"
    }
   ],
   "source": [
    "chars.reset_index(drop=True)"
   ]
  },
  {
   "cell_type": "code",
   "execution_count": 11,
   "id": "91af3715-1a5a-4941-ae89-153c0494031a",
   "metadata": {},
   "outputs": [],
   "source": [
    "nt = []\n",
    "for i in range(chars.shape[0]):\n",
    "    k = chars.iloc[i].char_name.split()\n",
    "    if len(k)>=3 and k[0]=='The':\n",
    "        chars.iloc[i].char_name = ' '.join(k[1:])"
   ]
  },
  {
   "cell_type": "code",
   "execution_count": 12,
   "id": "afc8c80c-db45-45d0-9a48-5d00c047eaf7",
   "metadata": {},
   "outputs": [],
   "source": [
    "for i in range(chars.shape[0]):\n",
    "    k = chars.iloc[i].char_name.split()\n",
    "    if len(k)>=3 and k[1]=='the':\n",
    "        chars.iloc[i].char_name = k[0]"
   ]
  },
  {
   "cell_type": "code",
   "execution_count": 13,
   "id": "3f80470d-4002-4dfd-981c-0df06a28a35b",
   "metadata": {},
   "outputs": [
    {
     "data": {
      "text/html": [
       "<div>\n",
       "<style scoped>\n",
       "    .dataframe tbody tr th:only-of-type {\n",
       "        vertical-align: middle;\n",
       "    }\n",
       "\n",
       "    .dataframe tbody tr th {\n",
       "        vertical-align: top;\n",
       "    }\n",
       "\n",
       "    .dataframe thead th {\n",
       "        text-align: right;\n",
       "    }\n",
       "</style>\n",
       "<table border=\"1\" class=\"dataframe\">\n",
       "  <thead>\n",
       "    <tr style=\"text-align: right;\">\n",
       "      <th></th>\n",
       "      <th>char_name</th>\n",
       "      <th>description</th>\n",
       "      <th>extra</th>\n",
       "    </tr>\n",
       "  </thead>\n",
       "  <tbody>\n",
       "    <tr>\n",
       "      <th>227</th>\n",
       "      <td>Mr. and Mrs. Bones</td>\n",
       "      <td>Mr. and Mrs. Bones were a couple killed by Dea...</td>\n",
       "      <td>NaN</td>\n",
       "    </tr>\n",
       "  </tbody>\n",
       "</table>\n",
       "</div>"
      ],
      "text/plain": [
       "              char_name                                        description  \\\n",
       "227  Mr. and Mrs. Bones  Mr. and Mrs. Bones were a couple killed by Dea...   \n",
       "\n",
       "    extra  \n",
       "227   NaN  "
      ]
     },
     "execution_count": 13,
     "metadata": {},
     "output_type": "execute_result"
    }
   ],
   "source": [
    "# for i in range(chars.shape[0]):\n",
    "#     k = chars.iloc[i].char_name.split()\n",
    "#     if len(k)>=3:\n",
    "#         print(chars.iloc[i].char_name)\n",
    "chars.loc[chars.char_name=='Mr. and Mrs. Bones']"
   ]
  },
  {
   "cell_type": "code",
   "execution_count": 14,
   "id": "3c86e36a-b4ba-496b-b794-56d9bc536347",
   "metadata": {},
   "outputs": [
    {
     "data": {
      "text/html": [
       "<div>\n",
       "<style scoped>\n",
       "    .dataframe tbody tr th:only-of-type {\n",
       "        vertical-align: middle;\n",
       "    }\n",
       "\n",
       "    .dataframe tbody tr th {\n",
       "        vertical-align: top;\n",
       "    }\n",
       "\n",
       "    .dataframe thead th {\n",
       "        text-align: right;\n",
       "    }\n",
       "</style>\n",
       "<table border=\"1\" class=\"dataframe\">\n",
       "  <thead>\n",
       "    <tr style=\"text-align: right;\">\n",
       "      <th></th>\n",
       "      <th>char_name</th>\n",
       "      <th>description</th>\n",
       "      <th>extra</th>\n",
       "      <th>firstname</th>\n",
       "    </tr>\n",
       "  </thead>\n",
       "  <tbody>\n",
       "    <tr>\n",
       "      <th>0</th>\n",
       "      <td>Mrs. Abbott</td>\n",
       "      <td>Mrs. Abbott was the mother of Hannah Abbott, a...</td>\n",
       "      <td>NaN</td>\n",
       "      <td>None</td>\n",
       "    </tr>\n",
       "    <tr>\n",
       "      <th>1</th>\n",
       "      <td>Abbott family</td>\n",
       "      <td>The Abbott family is a wizarding family that o...</td>\n",
       "      <td>NaN</td>\n",
       "      <td>None</td>\n",
       "    </tr>\n",
       "    <tr>\n",
       "      <th>2</th>\n",
       "      <td>Hannah Abbott</td>\n",
       "      <td>Hannah Abbott is a Hufflepuff student in Harry...</td>\n",
       "      <td>NaN</td>\n",
       "      <td>None</td>\n",
       "    </tr>\n",
       "    <tr>\n",
       "      <th>3</th>\n",
       "      <td>Abel Treetops</td>\n",
       "      <td>Abel Treetops was a wizard from Cincinnati who...</td>\n",
       "      <td>NaN</td>\n",
       "      <td>None</td>\n",
       "    </tr>\n",
       "    <tr>\n",
       "      <th>4</th>\n",
       "      <td>Euan Abercrombie</td>\n",
       "      <td>Euan Abercrombie was a small boy with prominen...</td>\n",
       "      <td>NaN</td>\n",
       "      <td>None</td>\n",
       "    </tr>\n",
       "    <tr>\n",
       "      <th>...</th>\n",
       "      <td>...</td>\n",
       "      <td>...</td>\n",
       "      <td>...</td>\n",
       "      <td>...</td>\n",
       "    </tr>\n",
       "    <tr>\n",
       "      <th>1252</th>\n",
       "      <td>Young Red-Haired Witch</td>\n",
       "      <td>In early September of 1927, a young red-haired...</td>\n",
       "      <td>NaN</td>\n",
       "      <td>None</td>\n",
       "    </tr>\n",
       "    <tr>\n",
       "      <th>1253</th>\n",
       "      <td>Yusuf Kama</td>\n",
       "      <td>Yusuf Kama was a French wizard of Senegalese a...</td>\n",
       "      <td>NaN</td>\n",
       "      <td>None</td>\n",
       "    </tr>\n",
       "    <tr>\n",
       "      <th>1254</th>\n",
       "      <td>Yvonne</td>\n",
       "      <td>Yvonne was a friend of Petunia Dursley who was...</td>\n",
       "      <td>NaN</td>\n",
       "      <td>None</td>\n",
       "    </tr>\n",
       "    <tr>\n",
       "      <th>1255</th>\n",
       "      <td>Zograf</td>\n",
       "      <td>Zograf played Keeper for the Bulgarian Nationa...</td>\n",
       "      <td>NaN</td>\n",
       "      <td>None</td>\n",
       "    </tr>\n",
       "    <tr>\n",
       "      <th>1256</th>\n",
       "      <td>Zonko</td>\n",
       "      <td>Founder(?) of Zonko’s Joke Shop. Possibly a re...</td>\n",
       "      <td>NaN</td>\n",
       "      <td>None</td>\n",
       "    </tr>\n",
       "  </tbody>\n",
       "</table>\n",
       "<p>1228 rows × 4 columns</p>\n",
       "</div>"
      ],
      "text/plain": [
       "                   char_name  \\\n",
       "0                Mrs. Abbott   \n",
       "1              Abbott family   \n",
       "2              Hannah Abbott   \n",
       "3              Abel Treetops   \n",
       "4           Euan Abercrombie   \n",
       "...                      ...   \n",
       "1252  Young Red-Haired Witch   \n",
       "1253              Yusuf Kama   \n",
       "1254                  Yvonne   \n",
       "1255                  Zograf   \n",
       "1256                   Zonko   \n",
       "\n",
       "                                            description extra firstname  \n",
       "0     Mrs. Abbott was the mother of Hannah Abbott, a...   NaN      None  \n",
       "1     The Abbott family is a wizarding family that o...   NaN      None  \n",
       "2     Hannah Abbott is a Hufflepuff student in Harry...   NaN      None  \n",
       "3     Abel Treetops was a wizard from Cincinnati who...   NaN      None  \n",
       "4     Euan Abercrombie was a small boy with prominen...   NaN      None  \n",
       "...                                                 ...   ...       ...  \n",
       "1252  In early September of 1927, a young red-haired...   NaN      None  \n",
       "1253  Yusuf Kama was a French wizard of Senegalese a...   NaN      None  \n",
       "1254  Yvonne was a friend of Petunia Dursley who was...   NaN      None  \n",
       "1255  Zograf played Keeper for the Bulgarian Nationa...   NaN      None  \n",
       "1256  Founder(?) of Zonko’s Joke Shop. Possibly a re...   NaN      None  \n",
       "\n",
       "[1228 rows x 4 columns]"
      ]
     },
     "execution_count": 14,
     "metadata": {},
     "output_type": "execute_result"
    }
   ],
   "source": [
    "chars['firstname'] = None\n",
    "chars"
   ]
  },
  {
   "cell_type": "code",
   "execution_count": 15,
   "id": "1edfd1c0-755d-42fe-bb84-40f55bea4198",
   "metadata": {},
   "outputs": [],
   "source": [
    "dot0 = []\n",
    "dot1 = []\n",
    "for i in chars.char_name:\n",
    "    k = i.split()\n",
    "    if len(k)>=2: \n",
    "        if k[0].endswith('.') :\n",
    "            dot0.append(i)\n",
    "        elif k[1].endswith('.'):\n",
    "            dot1.append(i)"
   ]
  },
  {
   "cell_type": "code",
   "execution_count": null,
   "id": "d9e0f2f2-a804-4535-a80b-2fdf34301452",
   "metadata": {},
   "outputs": [],
   "source": [
    "dot0"
   ]
  },
  {
   "cell_type": "code",
   "execution_count": null,
   "id": "722a9a5f-3f91-42e2-a254-17568fb838a5",
   "metadata": {},
   "outputs": [],
   "source": [
    "dot1"
   ]
  },
  {
   "cell_type": "code",
   "execution_count": null,
   "id": "46c18299-f09f-4e8b-b6e7-bdb35867e64e",
   "metadata": {},
   "outputs": [],
   "source": [
    "# for i in range(chars.shape[0]):\n",
    "#     k = chars.iloc[i].char_name.split()\n",
    "#     if len(k)<=2 :\n",
    "#         chars.iloc[i].firstname = k[0]"
   ]
  },
  {
   "cell_type": "code",
   "execution_count": null,
   "id": "1ff35f54-425a-40e6-ba84-3945c3b31ce7",
   "metadata": {},
   "outputs": [],
   "source": [
    "for i in chars.char_name:\n",
    "    if '.' in i :\n",
    "        print(i)"
   ]
  },
  {
   "cell_type": "code",
   "execution_count": null,
   "id": "67d0da55-6e99-4fe8-b8ee-80e72a2ac781",
   "metadata": {},
   "outputs": [],
   "source": [
    "for i in chars.char_name:\n",
    "    if '.' not in i :\n",
    "        print(i)"
   ]
  },
  {
   "cell_type": "markdown",
   "id": "9f3c0a64-ad10-439c-aa72-34fba382df93",
   "metadata": {},
   "source": [
    "###### After giving up on the above data"
   ]
  },
  {
   "cell_type": "markdown",
   "id": "eef9c85a-009a-4896-be61-0739f0173144",
   "metadata": {
    "tags": []
   },
   "source": [
    "### Web Scrapping Part-2"
   ]
  },
  {
   "cell_type": "markdown",
   "id": "cedfaa12-29df-4d30-a844-1cfe74aa2ec6",
   "metadata": {},
   "source": [
    "* Here I used a web page with that contained a limited number of character\n",
    "* I used the google search and another website"
   ]
  },
  {
   "cell_type": "code",
   "execution_count": 24,
   "id": "6d1d5700-e803-4939-9c5f-cbac18c80828",
   "metadata": {},
   "outputs": [],
   "source": [
    "page_url = \"https://www.google.com/search?q=harry+potter+characters+list&spell=1&sa=X&ved=2ahUKEwi60Nytq7_6AhWBSmwGHebRC7wQBSgAegQIAxA1&biw=1280&bih=573&dpr=1.5\"\n",
    "\n",
    "driver.get(page_url)"
   ]
  },
  {
   "cell_type": "code",
   "execution_count": 35,
   "id": "072b40c1-d82d-49d6-b288-2e63a2e85350",
   "metadata": {},
   "outputs": [],
   "source": [
    "gg_chars = driver.find_elements(By.XPATH, \"//div[@class='bVj5Zb FozYP']\")"
   ]
  },
  {
   "cell_type": "code",
   "execution_count": 29,
   "id": "91a8e2b3-a06d-411c-af6f-3eb83b08a2b3",
   "metadata": {},
   "outputs": [],
   "source": [
    "page_url = \"https://fantasytopics.com/harry-potter-characters-list/\"\n",
    "driver.get(page_url)"
   ]
  },
  {
   "cell_type": "code",
   "execution_count": 30,
   "id": "fd951af4-6884-48da-971d-a3eff701729b",
   "metadata": {},
   "outputs": [],
   "source": [
    "imp_chars = driver.find_elements(By.XPATH, \"//p[@class='has-text-align-center']\")"
   ]
  },
  {
   "cell_type": "markdown",
   "id": "30c55fc0-fc7a-44e6-8841-9c1087f02899",
   "metadata": {},
   "source": [
    "### Data Preprocessing Part-2"
   ]
  },
  {
   "cell_type": "markdown",
   "id": "b7027f95-6c13-44fe-8450-6454915cb700",
   "metadata": {},
   "source": [
    "* After getting the character names, I added both the list contents\n",
    "* Removed duplicates\n",
    "* Converted the list into a dataframe\n",
    "* Created a new column called firstname for the character's firstname\n",
    "* Finally, saved the dataframe into a csv file"
   ]
  },
  {
   "cell_type": "code",
   "execution_count": null,
   "id": "3e2d6f06-2df5-4819-8667-e926d5fbafff",
   "metadata": {},
   "outputs": [],
   "source": [
    "gg_chars"
   ]
  },
  {
   "cell_type": "code",
   "execution_count": 37,
   "id": "907a8b50-2999-4ff9-a2fa-75c01fcddfef",
   "metadata": {},
   "outputs": [],
   "source": [
    "gg_chars_list = [o.text for o in gg_chars]"
   ]
  },
  {
   "cell_type": "code",
   "execution_count": null,
   "id": "0c0efaa5-8a0b-4d67-b100-542cc82582a6",
   "metadata": {},
   "outputs": [],
   "source": [
    "gg_chars_list"
   ]
  },
  {
   "cell_type": "code",
   "execution_count": 32,
   "id": "ae721586-3921-4a15-8d85-0cb07c422dcb",
   "metadata": {},
   "outputs": [
    {
     "data": {
      "text/plain": [
       "198"
      ]
     },
     "execution_count": 32,
     "metadata": {},
     "output_type": "execute_result"
    }
   ],
   "source": [
    "len(imp_chars)"
   ]
  },
  {
   "cell_type": "code",
   "execution_count": 33,
   "id": "5775fb48-a03b-4551-ae26-9cf6a72611a2",
   "metadata": {},
   "outputs": [],
   "source": [
    "imp_chars_list = [o.text for o in imp_chars]"
   ]
  },
  {
   "cell_type": "code",
   "execution_count": 39,
   "id": "db2cf43e-a980-45c3-8183-5db8ee4acf13",
   "metadata": {},
   "outputs": [],
   "source": [
    "imp_chars_list = imp_chars_list[1:]"
   ]
  },
  {
   "cell_type": "code",
   "execution_count": 43,
   "id": "d5071408-1e31-4e7a-8995-81afebd14893",
   "metadata": {},
   "outputs": [],
   "source": [
    "final_character_list = gg_chars_list + imp_chars_list"
   ]
  },
  {
   "cell_type": "code",
   "execution_count": 46,
   "id": "ba18b674-4a08-4828-a18b-e46b5a4a500e",
   "metadata": {},
   "outputs": [
    {
     "data": {
      "text/plain": [
       "248"
      ]
     },
     "execution_count": 46,
     "metadata": {},
     "output_type": "execute_result"
    }
   ],
   "source": [
    "len(final_character_list)"
   ]
  },
  {
   "cell_type": "code",
   "execution_count": null,
   "id": "ef5badaf-f236-4941-a38e-c1c654ece62b",
   "metadata": {},
   "outputs": [],
   "source": [
    "set([x for x in final_character_list if final_character_list.count(x) > 1])"
   ]
  },
  {
   "cell_type": "code",
   "execution_count": 54,
   "id": "6a497f05-5a11-4931-8c5f-57d0333a0c3e",
   "metadata": {},
   "outputs": [
    {
     "data": {
      "text/plain": [
       "''"
      ]
     },
     "execution_count": 54,
     "metadata": {},
     "output_type": "execute_result"
    }
   ],
   "source": [
    "fl = [*set(final_character_list)] \n",
    "fl.pop(0)"
   ]
  },
  {
   "cell_type": "code",
   "execution_count": 56,
   "id": "2152b8c6-a59d-4b56-895c-da49b910275f",
   "metadata": {},
   "outputs": [
    {
     "data": {
      "text/plain": [
       "205"
      ]
     },
     "execution_count": 56,
     "metadata": {},
     "output_type": "execute_result"
    }
   ],
   "source": [
    "len(fl)"
   ]
  },
  {
   "cell_type": "code",
   "execution_count": 79,
   "id": "557ba08e-833a-4fec-9259-6628f53c0410",
   "metadata": {},
   "outputs": [],
   "source": [
    "fn = []\n",
    "for i in fl:\n",
    "    k = i.split()\n",
    "    fn.append(k[0])"
   ]
  },
  {
   "cell_type": "code",
   "execution_count": 80,
   "id": "f0783ddb-7eb4-4f73-8a34-bf83b82f9ff8",
   "metadata": {},
   "outputs": [],
   "source": [
    "chs = {'CharacterName':fl,'FirstName':fn}\n",
    "final_df = pd.DataFrame(chs)"
   ]
  },
  {
   "cell_type": "code",
   "execution_count": 82,
   "id": "fc137671-661d-4124-aad4-9ee6a610e792",
   "metadata": {},
   "outputs": [],
   "source": [
    "final_df.to_csv('characters.csv',index=False)"
   ]
  },
  {
   "cell_type": "markdown",
   "id": "788c5106-ffb6-42b7-8193-95817230766e",
   "metadata": {},
   "source": [
    "* Jump to the extracting relationship notebook"
   ]
  }
 ],
 "metadata": {
  "kernelspec": {
   "display_name": "Python 3 (ipykernel)",
   "language": "python",
   "name": "python3"
  },
  "language_info": {
   "codemirror_mode": {
    "name": "ipython",
    "version": 3
   },
   "file_extension": ".py",
   "mimetype": "text/x-python",
   "name": "python",
   "nbconvert_exporter": "python",
   "pygments_lexer": "ipython3",
   "version": "3.10.2"
  }
 },
 "nbformat": 4,
 "nbformat_minor": 5
}
