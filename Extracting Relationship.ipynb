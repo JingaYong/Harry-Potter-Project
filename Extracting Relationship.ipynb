{
 "cells": [
  {
   "cell_type": "markdown",
   "id": "0f67f5a8-ebd5-46f2-b338-6e2169e17816",
   "metadata": {},
   "source": [
    "## Extracting the relationships among the characters"
   ]
  },
  {
   "cell_type": "markdown",
   "id": "295bb286-a5d0-4e71-acaf-b1a3e1fa1e74",
   "metadata": {},
   "source": [
    "### Import Libraries\n",
    "* spacy - this is required to handle text data\n",
    "* networkx - this is required to create, manipulate, and study of the structure, dynamics, and functions of complex networks.\n",
    "* pyvis - visualize networks with a more more interactive network"
   ]
  },
  {
   "cell_type": "code",
   "execution_count": 2,
   "id": "9299633a-1d81-427f-9469-a5d4da8bdac3",
   "metadata": {},
   "outputs": [],
   "source": [
    "import pandas as pd\n",
    "import numpy as np\n",
    "import spacy as sp\n",
    "import networkx as nx\n",
    "from spacy import displacy\n",
    "import matplotlib.pyplot as plt\n",
    "import warnings\n",
    "warnings.filterwarnings('ignore')"
   ]
  },
  {
   "cell_type": "code",
   "execution_count": 2,
   "id": "4d2c108b-8372-4abe-8531-e6da812bb501",
   "metadata": {},
   "outputs": [],
   "source": [
    "ner = sp.load('en_core_web_sm')"
   ]
  },
  {
   "cell_type": "markdown",
   "id": "66a00e28-d1ab-4c67-afcf-6eb1a0d86b19",
   "metadata": {},
   "source": [
    "### Load the books"
   ]
  },
  {
   "cell_type": "markdown",
   "id": "006196bf-4dfe-459d-b187-a7e907725ba0",
   "metadata": {},
   "source": [
    "* Get all the books(.txt files)\n",
    "* We will be using the first book to demonstrate the network analysis of the characters\n",
    "* Next I have read the first book, and used the spacy lib to remove informities from the book's text"
   ]
  },
  {
   "cell_type": "code",
   "execution_count": 3,
   "id": "0563515d-361f-4ae5-a09c-0f2834f1ee98",
   "metadata": {},
   "outputs": [],
   "source": [
    "import os\n",
    "\n",
    "all_books = [b for b in os.listdir('Books') if '.txt' in b]"
   ]
  },
  {
   "cell_type": "code",
   "execution_count": 4,
   "id": "6fb934c3-8ffc-4060-a3fa-c819a04c3a5d",
   "metadata": {},
   "outputs": [
    {
     "data": {
      "text/plain": [
       "[\"Book 1 - The Philosopher's Stone.txt\",\n",
       " 'Book 2 - The Chamber of Secrets.txt',\n",
       " 'Book 3 - The Prisoner of Azkaban.txt',\n",
       " 'Book 4 - The Goblet of Fire.txt',\n",
       " 'Book 5 - The Order of the Phoenix.txt',\n",
       " 'Book 6 - The Half Blood Prince.txt',\n",
       " 'Book 7 - The Deathly Hallows.txt']"
      ]
     },
     "execution_count": 4,
     "metadata": {},
     "output_type": "execute_result"
    }
   ],
   "source": [
    "all_books"
   ]
  },
  {
   "cell_type": "code",
   "execution_count": null,
   "id": "6393c594-e4f6-4b87-b778-56915cd53b5c",
   "metadata": {},
   "outputs": [],
   "source": [
    "book = all_books[0]\n",
    "book_text = open(os.path.join('Books',book), encoding=\"utf8\").read()\n",
    "book_doc = ner(book_text)\n",
    "book_doc"
   ]
  },
  {
   "cell_type": "markdown",
   "id": "37b0d2a5-0b2d-487d-895b-71b763c1b29d",
   "metadata": {},
   "source": [
    "#### Visualize identified entities"
   ]
  },
  {
   "cell_type": "code",
   "execution_count": null,
   "id": "142048c7-9cf2-4960-ad53-3d13daf37511",
   "metadata": {},
   "outputs": [],
   "source": [
    "displacy.render(book_doc[:2000],style='ent',jupyter=True)"
   ]
  },
  {
   "cell_type": "markdown",
   "id": "1128b46c-30ea-410b-b54a-9b611bc3b964",
   "metadata": {},
   "source": [
    "##### Read the characters dataset for future use"
   ]
  },
  {
   "cell_type": "code",
   "execution_count": 5,
   "id": "b9c5858c-ddb5-4f47-9879-d69706b8ba52",
   "metadata": {},
   "outputs": [],
   "source": [
    "chars = pd.read_csv('characters.csv')"
   ]
  },
  {
   "cell_type": "markdown",
   "id": "797e9afe-1757-43fd-94e8-b6eee4151831",
   "metadata": {},
   "source": [
    "### Getting the entities of each sentence in the book"
   ]
  },
  {
   "cell_type": "markdown",
   "id": "d8ac5ac5-15b3-45f5-9968-5d68d31748a8",
   "metadata": {},
   "source": [
    "* We iterate through the entire book and append a dictionary containing the sentence and a list of its entities to an outer list\n",
    "* Next we filter the entity list by removing entities that are not character names "
   ]
  },
  {
   "cell_type": "code",
   "execution_count": 8,
   "id": "5ffe4dbf-fd3b-4d16-a623-efa3e3e2d89f",
   "metadata": {},
   "outputs": [],
   "source": [
    "se_df = [] \n",
    "# loop through sentences , store named entity list for each sentence\n",
    "for sent in book_doc.sents:\n",
    "    entity_list = [ent.text for ent in sent.ents]\n",
    "    se_df.append({'sentence':sent,'entities':entity_list})\n",
    "\n",
    "se_df = pd.DataFrame(se_df)"
   ]
  },
  {
   "cell_type": "code",
   "execution_count": 9,
   "id": "1c8da199-bb61-4abc-bba4-6d1215312a44",
   "metadata": {},
   "outputs": [
    {
     "data": {
      "text/html": [
       "<div>\n",
       "<style scoped>\n",
       "    .dataframe tbody tr th:only-of-type {\n",
       "        vertical-align: middle;\n",
       "    }\n",
       "\n",
       "    .dataframe tbody tr th {\n",
       "        vertical-align: top;\n",
       "    }\n",
       "\n",
       "    .dataframe thead th {\n",
       "        text-align: right;\n",
       "    }\n",
       "</style>\n",
       "<table border=\"1\" class=\"dataframe\">\n",
       "  <thead>\n",
       "    <tr style=\"text-align: right;\">\n",
       "      <th></th>\n",
       "      <th>sentence</th>\n",
       "      <th>entities</th>\n",
       "    </tr>\n",
       "  </thead>\n",
       "  <tbody>\n",
       "    <tr>\n",
       "      <th>0</th>\n",
       "      <td>(/, \\n\\n\\n\\n\\n, THE, BOY, WHO, LIVED, \\n\\n, Mr...</td>\n",
       "      <td>[Dursley, number four, Privet Drive]</td>\n",
       "    </tr>\n",
       "    <tr>\n",
       "      <th>1</th>\n",
       "      <td>(They, were, the, last, people, you, ’d, \\n, e...</td>\n",
       "      <td>[]</td>\n",
       "    </tr>\n",
       "    <tr>\n",
       "      <th>2</th>\n",
       "      <td>(Mr., Dursley, was, the, director, of, a, firm...</td>\n",
       "      <td>[Dursley, Grunnings]</td>\n",
       "    </tr>\n",
       "    <tr>\n",
       "      <th>3</th>\n",
       "      <td>(He, was, a, big, ,, beefy, \\n, man, with, har...</td>\n",
       "      <td>[]</td>\n",
       "    </tr>\n",
       "    <tr>\n",
       "      <th>4</th>\n",
       "      <td>(Mrs., Dursley, was, thin, and, \\n, blonde, an...</td>\n",
       "      <td>[Dursley]</td>\n",
       "    </tr>\n",
       "    <tr>\n",
       "      <th>...</th>\n",
       "      <td>...</td>\n",
       "      <td>...</td>\n",
       "    </tr>\n",
       "    <tr>\n",
       "      <th>6976</th>\n",
       "      <td>(Page, |, 347, Harry, Potter, and, the, Philos...</td>\n",
       "      <td>[Harry Potter]</td>\n",
       "    </tr>\n",
       "    <tr>\n",
       "      <th>6977</th>\n",
       "      <td>(“, Oh, ,, I, will, ,, ”, said, Harry, ,, and,...</td>\n",
       "      <td>[Harry]</td>\n",
       "    </tr>\n",
       "    <tr>\n",
       "      <th>6978</th>\n",
       "      <td>(“, They, do, n’t, \\n, know, we, ’re, not, all...</td>\n",
       "      <td>[]</td>\n",
       "    </tr>\n",
       "    <tr>\n",
       "      <th>6979</th>\n",
       "      <td>(I, ’m, \\n, going, to, have, a, lot, of, fun, ...</td>\n",
       "      <td>[Dudley, this summer]</td>\n",
       "    </tr>\n",
       "    <tr>\n",
       "      <th>6980</th>\n",
       "      <td>(Page, |, 348, Harry, Potter, and, the, Philos...</td>\n",
       "      <td>[Harry Potter]</td>\n",
       "    </tr>\n",
       "  </tbody>\n",
       "</table>\n",
       "<p>6981 rows × 2 columns</p>\n",
       "</div>"
      ],
      "text/plain": [
       "                                               sentence  \\\n",
       "0     (/, \\n\\n\\n\\n\\n, THE, BOY, WHO, LIVED, \\n\\n, Mr...   \n",
       "1     (They, were, the, last, people, you, ’d, \\n, e...   \n",
       "2     (Mr., Dursley, was, the, director, of, a, firm...   \n",
       "3     (He, was, a, big, ,, beefy, \\n, man, with, har...   \n",
       "4     (Mrs., Dursley, was, thin, and, \\n, blonde, an...   \n",
       "...                                                 ...   \n",
       "6976  (Page, |, 347, Harry, Potter, and, the, Philos...   \n",
       "6977  (“, Oh, ,, I, will, ,, ”, said, Harry, ,, and,...   \n",
       "6978  (“, They, do, n’t, \\n, know, we, ’re, not, all...   \n",
       "6979  (I, ’m, \\n, going, to, have, a, lot, of, fun, ...   \n",
       "6980  (Page, |, 348, Harry, Potter, and, the, Philos...   \n",
       "\n",
       "                                  entities  \n",
       "0     [Dursley, number four, Privet Drive]  \n",
       "1                                       []  \n",
       "2                     [Dursley, Grunnings]  \n",
       "3                                       []  \n",
       "4                                [Dursley]  \n",
       "...                                    ...  \n",
       "6976                        [Harry Potter]  \n",
       "6977                               [Harry]  \n",
       "6978                                    []  \n",
       "6979                 [Dudley, this summer]  \n",
       "6980                        [Harry Potter]  \n",
       "\n",
       "[6981 rows x 2 columns]"
      ]
     },
     "execution_count": 9,
     "metadata": {},
     "output_type": "execute_result"
    }
   ],
   "source": [
    "se_df"
   ]
  },
  {
   "cell_type": "code",
   "execution_count": 10,
   "id": "770fbd33-92eb-4ab3-b34e-908edb3b6284",
   "metadata": {},
   "outputs": [],
   "source": [
    "def filter(char_df,ent_list):\n",
    "    return [ent for ent in ent_list \n",
    "            if ent in list(char_df.CharacterName)]"
   ]
  },
  {
   "cell_type": "code",
   "execution_count": 11,
   "id": "429c7cca-562b-4577-ad52-2e8db115a7cd",
   "metadata": {},
   "outputs": [],
   "source": [
    "se_df['char_entities'] = se_df['entities'].apply(lambda x:filter(chars,x))"
   ]
  },
  {
   "cell_type": "code",
   "execution_count": 12,
   "id": "52a34c64-24d1-45bf-ad6e-816eee1923a0",
   "metadata": {},
   "outputs": [
    {
     "data": {
      "text/html": [
       "<div>\n",
       "<style scoped>\n",
       "    .dataframe tbody tr th:only-of-type {\n",
       "        vertical-align: middle;\n",
       "    }\n",
       "\n",
       "    .dataframe tbody tr th {\n",
       "        vertical-align: top;\n",
       "    }\n",
       "\n",
       "    .dataframe thead th {\n",
       "        text-align: right;\n",
       "    }\n",
       "</style>\n",
       "<table border=\"1\" class=\"dataframe\">\n",
       "  <thead>\n",
       "    <tr style=\"text-align: right;\">\n",
       "      <th></th>\n",
       "      <th>sentence</th>\n",
       "      <th>entities</th>\n",
       "      <th>char_entities</th>\n",
       "    </tr>\n",
       "  </thead>\n",
       "  <tbody>\n",
       "    <tr>\n",
       "      <th>0</th>\n",
       "      <td>(/, \\n\\n\\n\\n\\n, THE, BOY, WHO, LIVED, \\n\\n, Mr...</td>\n",
       "      <td>[Dursley, number four, Privet Drive]</td>\n",
       "      <td>[]</td>\n",
       "    </tr>\n",
       "    <tr>\n",
       "      <th>1</th>\n",
       "      <td>(They, were, the, last, people, you, ’d, \\n, e...</td>\n",
       "      <td>[]</td>\n",
       "      <td>[]</td>\n",
       "    </tr>\n",
       "    <tr>\n",
       "      <th>2</th>\n",
       "      <td>(Mr., Dursley, was, the, director, of, a, firm...</td>\n",
       "      <td>[Dursley, Grunnings]</td>\n",
       "      <td>[]</td>\n",
       "    </tr>\n",
       "    <tr>\n",
       "      <th>3</th>\n",
       "      <td>(He, was, a, big, ,, beefy, \\n, man, with, har...</td>\n",
       "      <td>[]</td>\n",
       "      <td>[]</td>\n",
       "    </tr>\n",
       "    <tr>\n",
       "      <th>4</th>\n",
       "      <td>(Mrs., Dursley, was, thin, and, \\n, blonde, an...</td>\n",
       "      <td>[Dursley]</td>\n",
       "      <td>[]</td>\n",
       "    </tr>\n",
       "    <tr>\n",
       "      <th>...</th>\n",
       "      <td>...</td>\n",
       "      <td>...</td>\n",
       "      <td>...</td>\n",
       "    </tr>\n",
       "    <tr>\n",
       "      <th>6976</th>\n",
       "      <td>(Page, |, 347, Harry, Potter, and, the, Philos...</td>\n",
       "      <td>[Harry Potter]</td>\n",
       "      <td>[Harry Potter]</td>\n",
       "    </tr>\n",
       "    <tr>\n",
       "      <th>6977</th>\n",
       "      <td>(“, Oh, ,, I, will, ,, ”, said, Harry, ,, and,...</td>\n",
       "      <td>[Harry]</td>\n",
       "      <td>[]</td>\n",
       "    </tr>\n",
       "    <tr>\n",
       "      <th>6978</th>\n",
       "      <td>(“, They, do, n’t, \\n, know, we, ’re, not, all...</td>\n",
       "      <td>[]</td>\n",
       "      <td>[]</td>\n",
       "    </tr>\n",
       "    <tr>\n",
       "      <th>6979</th>\n",
       "      <td>(I, ’m, \\n, going, to, have, a, lot, of, fun, ...</td>\n",
       "      <td>[Dudley, this summer]</td>\n",
       "      <td>[]</td>\n",
       "    </tr>\n",
       "    <tr>\n",
       "      <th>6980</th>\n",
       "      <td>(Page, |, 348, Harry, Potter, and, the, Philos...</td>\n",
       "      <td>[Harry Potter]</td>\n",
       "      <td>[Harry Potter]</td>\n",
       "    </tr>\n",
       "  </tbody>\n",
       "</table>\n",
       "<p>6981 rows × 3 columns</p>\n",
       "</div>"
      ],
      "text/plain": [
       "                                               sentence  \\\n",
       "0     (/, \\n\\n\\n\\n\\n, THE, BOY, WHO, LIVED, \\n\\n, Mr...   \n",
       "1     (They, were, the, last, people, you, ’d, \\n, e...   \n",
       "2     (Mr., Dursley, was, the, director, of, a, firm...   \n",
       "3     (He, was, a, big, ,, beefy, \\n, man, with, har...   \n",
       "4     (Mrs., Dursley, was, thin, and, \\n, blonde, an...   \n",
       "...                                                 ...   \n",
       "6976  (Page, |, 347, Harry, Potter, and, the, Philos...   \n",
       "6977  (“, Oh, ,, I, will, ,, ”, said, Harry, ,, and,...   \n",
       "6978  (“, They, do, n’t, \\n, know, we, ’re, not, all...   \n",
       "6979  (I, ’m, \\n, going, to, have, a, lot, of, fun, ...   \n",
       "6980  (Page, |, 348, Harry, Potter, and, the, Philos...   \n",
       "\n",
       "                                  entities   char_entities  \n",
       "0     [Dursley, number four, Privet Drive]              []  \n",
       "1                                       []              []  \n",
       "2                     [Dursley, Grunnings]              []  \n",
       "3                                       []              []  \n",
       "4                                [Dursley]              []  \n",
       "...                                    ...             ...  \n",
       "6976                        [Harry Potter]  [Harry Potter]  \n",
       "6977                               [Harry]              []  \n",
       "6978                                    []              []  \n",
       "6979                 [Dudley, this summer]              []  \n",
       "6980                        [Harry Potter]  [Harry Potter]  \n",
       "\n",
       "[6981 rows x 3 columns]"
      ]
     },
     "execution_count": 12,
     "metadata": {},
     "output_type": "execute_result"
    }
   ],
   "source": [
    "se_df"
   ]
  },
  {
   "cell_type": "markdown",
   "id": "c1d6c6fe-10b8-49c1-b38f-650b769a2536",
   "metadata": {},
   "source": [
    "### Creating the relationship"
   ]
  },
  {
   "cell_type": "markdown",
   "id": "3a68a266-8176-4b14-b995-ac30eedbdb89",
   "metadata": {},
   "source": [
    "* We take a window size, which basically means the number of sentences we take to consider a relationship among characters. \n",
    "* If 2 characters appear within the the range of the window size implies, they have a relation.\n",
    "* For ex - window size = 5, this implies if 2 character names appear in the range of 5 sentences\n",
    "* If you didn't understand the above explanation - Listen\n",
    "* We add the entities' list for every 5(window size) sentences in the se_df(dataframe), therefore the entities within the added list(char_list) have relations with each other.\n",
    "* Next we need to remove duplicates from the added list(char_list), because a character cannot have a relation with themselves.\n",
    "* After that we create dictionaries for each element in the char_unique list, where they are the source and the characters ahead are their respective targets.\n",
    "* We append each dictionary to an outer list\n",
    "* Finally convert the list into a dataframe"
   ]
  },
  {
   "cell_type": "code",
   "execution_count": 13,
   "id": "593d5ce1-71ff-43fc-b41d-fecc32bee565",
   "metadata": {},
   "outputs": [],
   "source": [
    "window_size = 5\n",
    "rels = []\n",
    "\n",
    "for i in range(se_df.shape[0]):\n",
    "    end = min(i+5,se_df.shape[0])\n",
    "    char_list = sum((se_df.loc[i:end].char_entities),[])\n",
    "    # Remove Duplicates in char_list\n",
    "    char_unique = [char_list[i] for i in range(len(char_list))\n",
    "                   if (i==0) or char_list[i]!=char_list[i-1]]\n",
    "    # print(char_unique)\n",
    "    if len(char_unique)>1:\n",
    "        for idx,i in enumerate(char_unique[:-1]):\n",
    "                b = char_unique[idx+1]\n",
    "                rels.append({'source':i,'target':b})"
   ]
  },
  {
   "cell_type": "code",
   "execution_count": 14,
   "id": "b0b64d14-51c1-4d12-a3c1-7bcbc07dbe7c",
   "metadata": {},
   "outputs": [
    {
     "data": {
      "text/html": [
       "<div>\n",
       "<style scoped>\n",
       "    .dataframe tbody tr th:only-of-type {\n",
       "        vertical-align: middle;\n",
       "    }\n",
       "\n",
       "    .dataframe tbody tr th {\n",
       "        vertical-align: top;\n",
       "    }\n",
       "\n",
       "    .dataframe thead th {\n",
       "        text-align: right;\n",
       "    }\n",
       "</style>\n",
       "<table border=\"1\" class=\"dataframe\">\n",
       "  <thead>\n",
       "    <tr style=\"text-align: right;\">\n",
       "      <th></th>\n",
       "      <th>source</th>\n",
       "      <th>target</th>\n",
       "    </tr>\n",
       "  </thead>\n",
       "  <tbody>\n",
       "    <tr>\n",
       "      <th>0</th>\n",
       "      <td>Harry Potter</td>\n",
       "      <td>Albus Dumbledore</td>\n",
       "    </tr>\n",
       "    <tr>\n",
       "      <th>1</th>\n",
       "      <td>Harry Potter</td>\n",
       "      <td>Albus Dumbledore</td>\n",
       "    </tr>\n",
       "    <tr>\n",
       "      <th>2</th>\n",
       "      <td>Harry Potter</td>\n",
       "      <td>Albus Dumbledore</td>\n",
       "    </tr>\n",
       "    <tr>\n",
       "      <th>3</th>\n",
       "      <td>Minerva McGonagall</td>\n",
       "      <td>Harry Potter</td>\n",
       "    </tr>\n",
       "    <tr>\n",
       "      <th>4</th>\n",
       "      <td>Minerva McGonagall</td>\n",
       "      <td>Harry Potter</td>\n",
       "    </tr>\n",
       "    <tr>\n",
       "      <th>...</th>\n",
       "      <td>...</td>\n",
       "      <td>...</td>\n",
       "    </tr>\n",
       "    <tr>\n",
       "      <th>371</th>\n",
       "      <td>Harry Potter</td>\n",
       "      <td>Ginny Weasley</td>\n",
       "    </tr>\n",
       "    <tr>\n",
       "      <th>372</th>\n",
       "      <td>Ginny Weasley</td>\n",
       "      <td>Harry Potter</td>\n",
       "    </tr>\n",
       "    <tr>\n",
       "      <th>373</th>\n",
       "      <td>Harry Potter</td>\n",
       "      <td>Ginny Weasley</td>\n",
       "    </tr>\n",
       "    <tr>\n",
       "      <th>374</th>\n",
       "      <td>Ginny Weasley</td>\n",
       "      <td>Harry Potter</td>\n",
       "    </tr>\n",
       "    <tr>\n",
       "      <th>375</th>\n",
       "      <td>Ginny Weasley</td>\n",
       "      <td>Harry Potter</td>\n",
       "    </tr>\n",
       "  </tbody>\n",
       "</table>\n",
       "<p>376 rows × 2 columns</p>\n",
       "</div>"
      ],
      "text/plain": [
       "                 source            target\n",
       "0          Harry Potter  Albus Dumbledore\n",
       "1          Harry Potter  Albus Dumbledore\n",
       "2          Harry Potter  Albus Dumbledore\n",
       "3    Minerva McGonagall      Harry Potter\n",
       "4    Minerva McGonagall      Harry Potter\n",
       "..                  ...               ...\n",
       "371        Harry Potter     Ginny Weasley\n",
       "372       Ginny Weasley      Harry Potter\n",
       "373        Harry Potter     Ginny Weasley\n",
       "374       Ginny Weasley      Harry Potter\n",
       "375       Ginny Weasley      Harry Potter\n",
       "\n",
       "[376 rows x 2 columns]"
      ]
     },
     "execution_count": 14,
     "metadata": {},
     "output_type": "execute_result"
    }
   ],
   "source": [
    "rels_df = pd.DataFrame(rels)\n",
    "rels_df"
   ]
  },
  {
   "cell_type": "code",
   "execution_count": 15,
   "id": "6cf7bc03-cf45-4175-b6a2-dc8c3dffdfe0",
   "metadata": {},
   "outputs": [],
   "source": [
    "rels_df.to_csv('relations.csv',index=False)"
   ]
  },
  {
   "cell_type": "markdown",
   "id": "121d3900-5820-477a-9fd4-90957669b051",
   "metadata": {},
   "source": [
    "### Organising the relations"
   ]
  },
  {
   "cell_type": "markdown",
   "id": "70e8ad3d-ec89-45f8-928f-e7a1b9457d98",
   "metadata": {},
   "source": [
    "* First we rearrange the source and target alphabetically\n",
    "* ex - Source=Harry Potter Target=Hedwig ; Source=Hedwig Target=Harry Potter ; These two mean the same, thus we need to convert all such rows to a single form\n",
    "* Therefore we sort the values column wise meaning in the above example,  Source=Hedwig Target=Harry Potter => Source=Harry Potter Target=Hedwig\n",
    "* Next we add a new column to the sorted dataframe, giving it a default value of 1\n",
    "* Next we add the weights by grouping similar rows, thus getting the weightage of each relationship."
   ]
  },
  {
   "cell_type": "code",
   "execution_count": 16,
   "id": "bf5e09b4-8505-425e-8ed5-4bc12895bea0",
   "metadata": {},
   "outputs": [],
   "source": [
    "rels_df = pd.read_csv('relations.csv')\n",
    "j = pd.DataFrame(np.sort(rels_df.values,axis=1),columns=rels_df.columns)\n",
    "j.to_csv('relations.csv',index=False)"
   ]
  },
  {
   "cell_type": "code",
   "execution_count": 17,
   "id": "17e637b4-c9e8-4526-858e-00a15c183008",
   "metadata": {},
   "outputs": [],
   "source": [
    "rels_df = pd.read_csv('relations.csv')\n",
    "rels_df['weights'] = 1"
   ]
  },
  {
   "cell_type": "code",
   "execution_count": 18,
   "id": "60a9d89e-9ece-41f7-a6fd-8a826b81fb09",
   "metadata": {},
   "outputs": [],
   "source": [
    "rels_df = rels_df.groupby(['source','target'],sort=False,as_index=False).sum()"
   ]
  },
  {
   "cell_type": "code",
   "execution_count": 19,
   "id": "93491308-e598-430b-88d8-7146fb628de7",
   "metadata": {},
   "outputs": [
    {
     "data": {
      "text/html": [
       "<div>\n",
       "<style scoped>\n",
       "    .dataframe tbody tr th:only-of-type {\n",
       "        vertical-align: middle;\n",
       "    }\n",
       "\n",
       "    .dataframe tbody tr th {\n",
       "        vertical-align: top;\n",
       "    }\n",
       "\n",
       "    .dataframe thead th {\n",
       "        text-align: right;\n",
       "    }\n",
       "</style>\n",
       "<table border=\"1\" class=\"dataframe\">\n",
       "  <thead>\n",
       "    <tr style=\"text-align: right;\">\n",
       "      <th></th>\n",
       "      <th>source</th>\n",
       "      <th>target</th>\n",
       "      <th>weights</th>\n",
       "    </tr>\n",
       "  </thead>\n",
       "  <tbody>\n",
       "    <tr>\n",
       "      <th>0</th>\n",
       "      <td>Albus Dumbledore</td>\n",
       "      <td>Harry Potter</td>\n",
       "      <td>16</td>\n",
       "    </tr>\n",
       "    <tr>\n",
       "      <th>1</th>\n",
       "      <td>Harry Potter</td>\n",
       "      <td>Minerva McGonagall</td>\n",
       "      <td>6</td>\n",
       "    </tr>\n",
       "    <tr>\n",
       "      <th>2</th>\n",
       "      <td>Harry Potter</td>\n",
       "      <td>James Potter</td>\n",
       "      <td>5</td>\n",
       "    </tr>\n",
       "    <tr>\n",
       "      <th>3</th>\n",
       "      <td>Cornelius Fudge</td>\n",
       "      <td>Harry Potter</td>\n",
       "      <td>2</td>\n",
       "    </tr>\n",
       "    <tr>\n",
       "      <th>4</th>\n",
       "      <td>Dedalus Diggle</td>\n",
       "      <td>Harry Potter</td>\n",
       "      <td>6</td>\n",
       "    </tr>\n",
       "    <tr>\n",
       "      <th>5</th>\n",
       "      <td>Griphook</td>\n",
       "      <td>Harry Potter</td>\n",
       "      <td>5</td>\n",
       "    </tr>\n",
       "    <tr>\n",
       "      <th>6</th>\n",
       "      <td>Harry Potter</td>\n",
       "      <td>Hedwig</td>\n",
       "      <td>17</td>\n",
       "    </tr>\n",
       "    <tr>\n",
       "      <th>7</th>\n",
       "      <td>Albus Dumbledore</td>\n",
       "      <td>Nicolas Flamel</td>\n",
       "      <td>3</td>\n",
       "    </tr>\n",
       "    <tr>\n",
       "      <th>8</th>\n",
       "      <td>Draco Malfoy</td>\n",
       "      <td>Goyle</td>\n",
       "      <td>4</td>\n",
       "    </tr>\n",
       "    <tr>\n",
       "      <th>9</th>\n",
       "      <td>Draco Malfoy</td>\n",
       "      <td>Harry Potter</td>\n",
       "      <td>25</td>\n",
       "    </tr>\n",
       "    <tr>\n",
       "      <th>10</th>\n",
       "      <td>Goyle</td>\n",
       "      <td>Harry Potter</td>\n",
       "      <td>14</td>\n",
       "    </tr>\n",
       "    <tr>\n",
       "      <th>11</th>\n",
       "      <td>Fat Friar</td>\n",
       "      <td>Harry Potter</td>\n",
       "      <td>3</td>\n",
       "    </tr>\n",
       "    <tr>\n",
       "      <th>12</th>\n",
       "      <td>Harry Potter</td>\n",
       "      <td>Neville Longbottom</td>\n",
       "      <td>1</td>\n",
       "    </tr>\n",
       "    <tr>\n",
       "      <th>13</th>\n",
       "      <td>Harry Potter</td>\n",
       "      <td>Nearly Headless Nick</td>\n",
       "      <td>4</td>\n",
       "    </tr>\n",
       "    <tr>\n",
       "      <th>14</th>\n",
       "      <td>Harry Potter</td>\n",
       "      <td>Percy Weasley</td>\n",
       "      <td>2</td>\n",
       "    </tr>\n",
       "    <tr>\n",
       "      <th>15</th>\n",
       "      <td>Fang</td>\n",
       "      <td>Harry Potter</td>\n",
       "      <td>11</td>\n",
       "    </tr>\n",
       "    <tr>\n",
       "      <th>16</th>\n",
       "      <td>Harry Potter</td>\n",
       "      <td>Seamus Finnigan</td>\n",
       "      <td>4</td>\n",
       "    </tr>\n",
       "    <tr>\n",
       "      <th>17</th>\n",
       "      <td>Harry Potter</td>\n",
       "      <td>Parvati Patil</td>\n",
       "      <td>2</td>\n",
       "    </tr>\n",
       "    <tr>\n",
       "      <th>18</th>\n",
       "      <td>Harry Potter</td>\n",
       "      <td>Peeves</td>\n",
       "      <td>6</td>\n",
       "    </tr>\n",
       "    <tr>\n",
       "      <th>19</th>\n",
       "      <td>Harry Potter</td>\n",
       "      <td>Oliver Wood</td>\n",
       "      <td>7</td>\n",
       "    </tr>\n",
       "    <tr>\n",
       "      <th>20</th>\n",
       "      <td>Charlie Weasley</td>\n",
       "      <td>Harry Potter</td>\n",
       "      <td>3</td>\n",
       "    </tr>\n",
       "    <tr>\n",
       "      <th>21</th>\n",
       "      <td>Harry Potter</td>\n",
       "      <td>Hermione Granger</td>\n",
       "      <td>1</td>\n",
       "    </tr>\n",
       "    <tr>\n",
       "      <th>22</th>\n",
       "      <td>Alicia Spinnet</td>\n",
       "      <td>Lee Jordan</td>\n",
       "      <td>4</td>\n",
       "    </tr>\n",
       "    <tr>\n",
       "      <th>23</th>\n",
       "      <td>Alicia Spinnet</td>\n",
       "      <td>Harry Potter</td>\n",
       "      <td>6</td>\n",
       "    </tr>\n",
       "    <tr>\n",
       "      <th>24</th>\n",
       "      <td>Harry Potter</td>\n",
       "      <td>Katie Bell</td>\n",
       "      <td>5</td>\n",
       "    </tr>\n",
       "    <tr>\n",
       "      <th>25</th>\n",
       "      <td>Fred Weasley</td>\n",
       "      <td>Lee Jordan</td>\n",
       "      <td>2</td>\n",
       "    </tr>\n",
       "    <tr>\n",
       "      <th>26</th>\n",
       "      <td>Harry Potter</td>\n",
       "      <td>Lee Jordan</td>\n",
       "      <td>14</td>\n",
       "    </tr>\n",
       "    <tr>\n",
       "      <th>27</th>\n",
       "      <td>Fluffy</td>\n",
       "      <td>Harry Potter</td>\n",
       "      <td>39</td>\n",
       "    </tr>\n",
       "    <tr>\n",
       "      <th>28</th>\n",
       "      <td>Harry Potter</td>\n",
       "      <td>Nicolas Flamel</td>\n",
       "      <td>21</td>\n",
       "    </tr>\n",
       "    <tr>\n",
       "      <th>29</th>\n",
       "      <td>Fred Weasley</td>\n",
       "      <td>Harry Potter</td>\n",
       "      <td>11</td>\n",
       "    </tr>\n",
       "    <tr>\n",
       "      <th>30</th>\n",
       "      <td>Crabbe</td>\n",
       "      <td>Harry Potter</td>\n",
       "      <td>2</td>\n",
       "    </tr>\n",
       "    <tr>\n",
       "      <th>31</th>\n",
       "      <td>Crabbe</td>\n",
       "      <td>Goyle</td>\n",
       "      <td>6</td>\n",
       "    </tr>\n",
       "    <tr>\n",
       "      <th>32</th>\n",
       "      <td>Fluffy</td>\n",
       "      <td>Nicolas Flamel</td>\n",
       "      <td>4</td>\n",
       "    </tr>\n",
       "    <tr>\n",
       "      <th>33</th>\n",
       "      <td>Harry Potter</td>\n",
       "      <td>Norbert</td>\n",
       "      <td>32</td>\n",
       "    </tr>\n",
       "    <tr>\n",
       "      <th>34</th>\n",
       "      <td>Fang</td>\n",
       "      <td>Norbert</td>\n",
       "      <td>6</td>\n",
       "    </tr>\n",
       "    <tr>\n",
       "      <th>35</th>\n",
       "      <td>Harry Potter</td>\n",
       "      <td>Ronan</td>\n",
       "      <td>23</td>\n",
       "    </tr>\n",
       "    <tr>\n",
       "      <th>36</th>\n",
       "      <td>Firenze</td>\n",
       "      <td>Harry Potter</td>\n",
       "      <td>27</td>\n",
       "    </tr>\n",
       "    <tr>\n",
       "      <th>37</th>\n",
       "      <td>Firenze</td>\n",
       "      <td>Ronan</td>\n",
       "      <td>6</td>\n",
       "    </tr>\n",
       "    <tr>\n",
       "      <th>38</th>\n",
       "      <td>Firenze</td>\n",
       "      <td>Fluffy</td>\n",
       "      <td>4</td>\n",
       "    </tr>\n",
       "    <tr>\n",
       "      <th>39</th>\n",
       "      <td>Harry Potter</td>\n",
       "      <td>Trevor</td>\n",
       "      <td>1</td>\n",
       "    </tr>\n",
       "    <tr>\n",
       "      <th>40</th>\n",
       "      <td>Fluffy</td>\n",
       "      <td>Hedwig</td>\n",
       "      <td>6</td>\n",
       "    </tr>\n",
       "    <tr>\n",
       "      <th>41</th>\n",
       "      <td>Ginny Weasley</td>\n",
       "      <td>Harry Potter</td>\n",
       "      <td>10</td>\n",
       "    </tr>\n",
       "  </tbody>\n",
       "</table>\n",
       "</div>"
      ],
      "text/plain": [
       "              source                target  weights\n",
       "0   Albus Dumbledore          Harry Potter       16\n",
       "1       Harry Potter    Minerva McGonagall        6\n",
       "2       Harry Potter          James Potter        5\n",
       "3    Cornelius Fudge          Harry Potter        2\n",
       "4     Dedalus Diggle          Harry Potter        6\n",
       "5           Griphook          Harry Potter        5\n",
       "6       Harry Potter                Hedwig       17\n",
       "7   Albus Dumbledore        Nicolas Flamel        3\n",
       "8       Draco Malfoy                 Goyle        4\n",
       "9       Draco Malfoy          Harry Potter       25\n",
       "10             Goyle          Harry Potter       14\n",
       "11         Fat Friar          Harry Potter        3\n",
       "12      Harry Potter    Neville Longbottom        1\n",
       "13      Harry Potter  Nearly Headless Nick        4\n",
       "14      Harry Potter         Percy Weasley        2\n",
       "15              Fang          Harry Potter       11\n",
       "16      Harry Potter       Seamus Finnigan        4\n",
       "17      Harry Potter         Parvati Patil        2\n",
       "18      Harry Potter                Peeves        6\n",
       "19      Harry Potter           Oliver Wood        7\n",
       "20   Charlie Weasley          Harry Potter        3\n",
       "21      Harry Potter      Hermione Granger        1\n",
       "22    Alicia Spinnet            Lee Jordan        4\n",
       "23    Alicia Spinnet          Harry Potter        6\n",
       "24      Harry Potter            Katie Bell        5\n",
       "25      Fred Weasley            Lee Jordan        2\n",
       "26      Harry Potter            Lee Jordan       14\n",
       "27            Fluffy          Harry Potter       39\n",
       "28      Harry Potter        Nicolas Flamel       21\n",
       "29      Fred Weasley          Harry Potter       11\n",
       "30            Crabbe          Harry Potter        2\n",
       "31            Crabbe                 Goyle        6\n",
       "32            Fluffy        Nicolas Flamel        4\n",
       "33      Harry Potter               Norbert       32\n",
       "34              Fang               Norbert        6\n",
       "35      Harry Potter                 Ronan       23\n",
       "36           Firenze          Harry Potter       27\n",
       "37           Firenze                 Ronan        6\n",
       "38           Firenze                Fluffy        4\n",
       "39      Harry Potter                Trevor        1\n",
       "40            Fluffy                Hedwig        6\n",
       "41     Ginny Weasley          Harry Potter       10"
      ]
     },
     "execution_count": 19,
     "metadata": {},
     "output_type": "execute_result"
    }
   ],
   "source": [
    "rels_df.to_csv('relations_weights.csv',index=False)\n",
    "rels_df"
   ]
  },
  {
   "cell_type": "code",
   "execution_count": 4,
   "id": "ebfd665e-a7f9-4c18-b96a-6a7badc8bd41",
   "metadata": {},
   "outputs": [],
   "source": [
    "rels_df = pd.read_csv('relations_weights.csv')"
   ]
  },
  {
   "cell_type": "markdown",
   "id": "4f4398f8-d0be-4c83-b85c-32798ad6ed75",
   "metadata": {},
   "source": [
    "### Creating the Graph"
   ]
  },
  {
   "cell_type": "markdown",
   "id": "054ef2eb-3842-4c05-b2a3-6e7e16665971",
   "metadata": {},
   "source": [
    "* We use the networkx lib, and the give the relations dataframe, with the column names for the respective arguments, and create the graph\n",
    "* We need to import scipy to run this part\n",
    "* We chose a network positions layout, and draw the network structure of the relations among the characters, where each node represents a character and the line joining the nodes their relationship.\n",
    "* But this is not an interactive network graph, rather a static image."
   ]
  },
  {
   "cell_type": "code",
   "execution_count": 5,
   "id": "1100218d-e41e-4e35-9f1e-a568abd15c4c",
   "metadata": {},
   "outputs": [],
   "source": [
    "# create a graph from pandas df\n",
    "g = nx.from_pandas_edgelist(rels_df,source='source',target='target',edge_attr='weights',\n",
    "                            create_using=nx.Graph())"
   ]
  },
  {
   "cell_type": "code",
   "execution_count": 6,
   "id": "8c412942-11e5-4d10-a125-263a93d86db7",
   "metadata": {},
   "outputs": [
    {
     "data": {
      "image/png": "[encoded data removed]",
      "text/plain": [
       "<Figure size 720x720 with 1 Axes>"
      ]
     },
     "metadata": {},
     "output_type": "display_data"
    }
   ],
   "source": [
    "import scipy as sc\n",
    "\n",
    "pos = nx.kamada_kawai_layout(g)\n",
    "plt.figure(figsize=(10,10))\n",
    "nx.draw(g,with_labels=True,node_color='cyan',edge_cmap=plt.cm.Blues,pos=pos)\n",
    "plt.show()"
   ]
  },
  {
   "cell_type": "markdown",
   "id": "2c2abdf8-589f-4e73-9ea9-bc30de60b630",
   "metadata": {},
   "source": [
    "### Interactive Network Analysis"
   ]
  },
  {
   "cell_type": "markdown",
   "id": "1a2c593b-75cd-43ca-a458-62a494b4f3a7",
   "metadata": {},
   "source": [
    "* Here we use the network module of the pyvis lib\n",
    "* Initialize a Network variable with the appropriate arguments\n",
    "* Customizing the node size based on the degree(node size increases with more relations, the degree is the angle between each relation)"
   ]
  },
  {
   "cell_type": "code",
   "execution_count": 7,
   "id": "c5ac4275-7cde-4654-9097-b0de24510aab",
   "metadata": {},
   "outputs": [
    {
     "data": {
      "text/html": [
       "\n",
       "        <iframe\n",
       "            width=\"1000px\"\n",
       "            height=\"1000px\"\n",
       "            src=\"harrypotter.html\"\n",
       "            frameborder=\"0\"\n",
       "            allowfullscreen\n",
       "            \n",
       "        ></iframe>\n",
       "        "
      ],
      "text/plain": [
       "<IPython.lib.display.IFrame at 0x2c7667b3190>"
      ]
     },
     "execution_count": 7,
     "metadata": {},
     "output_type": "execute_result"
    }
   ],
   "source": [
    "from pyvis.network import Network\n",
    "\n",
    "net= Network(notebook=True,width='1000px',height='1000px',\n",
    "             bgcolor='#222222',font_color='white')\n",
    "\n",
    "# customize node size\n",
    "node_degree = dict(g.degree)\n",
    "nx.set_node_attributes(g,node_degree,'size')\n",
    "\n",
    "net.from_nx(g)\n",
    "net.show('harrypotter.html')"
   ]
  },
  {
   "cell_type": "markdown",
   "id": "b71e7993-c505-4894-86c1-36bd298647f2",
   "metadata": {},
   "source": [
    "### Calculating centrality parameters of the network graph"
   ]
  },
  {
   "cell_type": "markdown",
   "id": "f23742ca-8b56-4640-9041-e1642379d878",
   "metadata": {},
   "source": [
    "* Degree Centrality, and their respective plots\n",
    "* Closeness Centrality, and their respective plots\n",
    "* Betweenness Centrality, and their respective plots"
   ]
  },
  {
   "cell_type": "code",
   "execution_count": 8,
   "id": "ffd10598-e498-4d06-9a4c-5f1c752475ac",
   "metadata": {},
   "outputs": [
    {
     "data": {
      "text/plain": [
       "{'Albus Dumbledore': 0.0625,\n",
       " 'Harry Potter': 1.0,\n",
       " 'Minerva McGonagall': 0.03125,\n",
       " 'James Potter': 0.03125,\n",
       " 'Cornelius Fudge': 0.03125,\n",
       " 'Dedalus Diggle': 0.03125,\n",
       " 'Griphook': 0.03125,\n",
       " 'Hedwig': 0.0625,\n",
       " 'Nicolas Flamel': 0.09375,\n",
       " 'Draco Malfoy': 0.0625,\n",
       " 'Goyle': 0.09375,\n",
       " 'Fat Friar': 0.03125,\n",
       " 'Neville Longbottom': 0.03125,\n",
       " 'Nearly Headless Nick': 0.03125,\n",
       " 'Percy Weasley': 0.03125,\n",
       " 'Fang': 0.0625,\n",
       " 'Seamus Finnigan': 0.03125,\n",
       " 'Parvati Patil': 0.03125,\n",
       " 'Peeves': 0.03125,\n",
       " 'Oliver Wood': 0.03125,\n",
       " 'Charlie Weasley': 0.03125,\n",
       " 'Hermione Granger': 0.03125,\n",
       " 'Alicia Spinnet': 0.0625,\n",
       " 'Lee Jordan': 0.09375,\n",
       " 'Katie Bell': 0.03125,\n",
       " 'Fred Weasley': 0.0625,\n",
       " 'Fluffy': 0.125,\n",
       " 'Crabbe': 0.0625,\n",
       " 'Norbert': 0.0625,\n",
       " 'Ronan': 0.0625,\n",
       " 'Firenze': 0.09375,\n",
       " 'Trevor': 0.03125,\n",
       " 'Ginny Weasley': 0.03125}"
      ]
     },
     "execution_count": 8,
     "metadata": {},
     "output_type": "execute_result"
    }
   ],
   "source": [
    "# Degree Centrality\n",
    "degree_dict = nx.degree_centrality(g)\n",
    "degree_dict"
   ]
  },
  {
   "cell_type": "code",
   "execution_count": 9,
   "id": "e4b13396-74e3-4b5f-ac76-7a4633d27b52",
   "metadata": {},
   "outputs": [
    {
     "data": {
      "text/plain": [
       "<AxesSubplot:>"
      ]
     },
     "execution_count": 9,
     "metadata": {},
     "output_type": "execute_result"
    },
    {
     "data": {
      "image/png": "[encoded data removed]",
      "text/plain": [
       "<Figure size 432x288 with 1 Axes>"
      ]
     },
     "metadata": {
      "needs_background": "light"
     },
     "output_type": "display_data"
    }
   ],
   "source": [
    "degree_df = pd.DataFrame.from_dict(degree_dict,\n",
    "                    orient='index',columns=['centrality'])\n",
    "\n",
    "#Plot top 10 nodes\n",
    "degree_df.sort_values('centrality',ascending=False)[:9].plot(kind='bar')"
   ]
  },
  {
   "cell_type": "code",
   "execution_count": 10,
   "id": "01866b39-4b16-4101-bb03-eda8b19e52b0",
   "metadata": {},
   "outputs": [
    {
     "data": {
      "text/plain": [
       "<AxesSubplot:>"
      ]
     },
     "execution_count": 10,
     "metadata": {},
     "output_type": "execute_result"
    },
    {
     "data": {
      "image/png": "[encoded data removed]",
      "text/plain": [
       "<Figure size 432x288 with 1 Axes>"
      ]
     },
     "metadata": {
      "needs_background": "light"
     },
     "output_type": "display_data"
    }
   ],
   "source": [
    "# Closeness Centrality\n",
    "close_dict = nx.closeness_centrality(g)\n",
    "close_dict\n",
    "close_df = pd.DataFrame.from_dict(close_dict,\n",
    "                    orient='index',columns=['centrality'])\n",
    "\n",
    "#Plot top 10 nodes\n",
    "close_df.sort_values('centrality',ascending=False)[:9].plot(kind='bar')"
   ]
  },
  {
   "cell_type": "code",
   "execution_count": 11,
   "id": "aa494428-6871-4824-a76a-2f761db1a623",
   "metadata": {},
   "outputs": [
    {
     "data": {
      "text/plain": [
       "<AxesSubplot:>"
      ]
     },
     "execution_count": 11,
     "metadata": {},
     "output_type": "execute_result"
    },
    {
     "data": {
      "image/png": "[encoded data removed]",
      "text/plain": [
       "<Figure size 432x288 with 1 Axes>"
      ]
     },
     "metadata": {
      "needs_background": "light"
     },
     "output_type": "display_data"
    }
   ],
   "source": [
    "# Betweenness Centrality\n",
    "betweenness_dict = nx.betweenness_centrality(g)\n",
    "betweenness_dict\n",
    "betweenness_df = pd.DataFrame.from_dict(betweenness_dict,\n",
    "                    orient='index',columns=['centrality'])\n",
    "\n",
    "#Plot top 10 nodes\n",
    "betweenness_df.sort_values('centrality',ascending=False)[:9].plot(kind='bar')"
   ]
  },
  {
   "cell_type": "code",
   "execution_count": 12,
   "id": "2a7732bf-2582-42f7-821d-2fbd1e0457f7",
   "metadata": {},
   "outputs": [],
   "source": [
    "# Save centrality measures\n",
    "nx.set_node_attributes(g,degree_dict,'degree_centrality')\n",
    "nx.set_node_attributes(g,close_dict,'closeness_centrality')\n",
    "nx.set_node_attributes(g,betweenness_dict,'betweenness_centrality')"
   ]
  },
  {
   "cell_type": "markdown",
   "id": "05a6e083-2c85-49e3-8dc4-cf42eb2070a0",
   "metadata": {},
   "source": [
    "### Creating communities from relations network(by assigning different colors to each community)\n",
    "###### import community as community_louvain\n"
   ]
  },
  {
   "cell_type": "code",
   "execution_count": 13,
   "id": "5e04356d-cfde-4727-bd6e-093c3c7f5601",
   "metadata": {},
   "outputs": [],
   "source": [
    "import community as community_louvain"
   ]
  },
  {
   "cell_type": "markdown",
   "id": "38f42333-5561-4397-bf8d-773711100358",
   "metadata": {},
   "source": [
    "* create communities by partitioning the graph"
   ]
  },
  {
   "cell_type": "code",
   "execution_count": 14,
   "id": "c17f93ce-44d8-4c81-8bcf-b513737dd1a2",
   "metadata": {},
   "outputs": [],
   "source": [
    "communities = community_louvain.best_partition(g)"
   ]
  },
  {
   "cell_type": "code",
   "execution_count": 15,
   "id": "bf949372-d7f6-4e94-82ee-e2dc2fdb9c13",
   "metadata": {},
   "outputs": [],
   "source": [
    "nx.set_node_attributes(g,communities,'group')"
   ]
  },
  {
   "cell_type": "code",
   "execution_count": 16,
   "id": "2524899f-e2e0-43a8-94cb-d8e8b12d8a35",
   "metadata": {},
   "outputs": [
    {
     "data": {
      "text/html": [
       "\n",
       "        <iframe\n",
       "            width=\"1000px\"\n",
       "            height=\"700px\"\n",
       "            src=\"harrypotter_communites.html\"\n",
       "            frameborder=\"0\"\n",
       "            allowfullscreen\n",
       "            \n",
       "        ></iframe>\n",
       "        "
      ],
      "text/plain": [
       "<IPython.lib.display.IFrame at 0x2c76469ba90>"
      ]
     },
     "execution_count": 16,
     "metadata": {},
     "output_type": "execute_result"
    }
   ],
   "source": [
    "com_net = Network(notebook=True,width='1000px',height='700px',\n",
    "                  bgcolor='#222222',font_color='white')\n",
    "\n",
    "com_net.from_nx(g)\n",
    "com_net.show('harrypotter_communites.html')"
   ]
  },
  {
   "cell_type": "markdown",
   "id": "272876ca-dead-4df3-96bd-b84427cff172",
   "metadata": {},
   "source": [
    "### Lastly we check the timeline of the character relevance/adaptability throughout the series of books"
   ]
  },
  {
   "cell_type": "markdown",
   "id": "89bab868-b7c9-4248-b461-b89c990427a7",
   "metadata": {},
   "source": [
    "* Perform all the steps from the reading each book to prepare graphs for each book's sentences' entities' relations\n",
    "* Then calculate the degree centrality of each graph\n",
    "* Finally plot the graph of the characters you wish to visualize their character development through all the books"
   ]
  },
  {
   "cell_type": "code",
   "execution_count": 41,
   "id": "240d154e-5bf7-4e3a-a2f5-2a29df741abb",
   "metadata": {},
   "outputs": [],
   "source": [
    "# Initialize empty list for graphs from books\n",
    "books_graph = []\n",
    "all_books = [b for b in os.listdir('Books') if '.txt' in b]\n",
    "\n",
    "all_books.sort(key=lambda x:x)"
   ]
  },
  {
   "cell_type": "code",
   "execution_count": 42,
   "id": "27a93be0-b06f-491f-8963-f664c8915034",
   "metadata": {},
   "outputs": [
    {
     "data": {
      "text/plain": [
       "[\"Book 1 - The Philosopher's Stone.txt\",\n",
       " 'Book 2 - The Chamber of Secrets.txt',\n",
       " 'Book 3 - The Prisoner of Azkaban.txt',\n",
       " 'Book 4 - The Goblet of Fire.txt',\n",
       " 'Book 5 - The Order of the Phoenix.txt',\n",
       " 'Book 6 - The Half Blood Prince.txt',\n",
       " 'Book 7 - The Deathly Hallows.txt']"
      ]
     },
     "execution_count": 42,
     "metadata": {},
     "output_type": "execute_result"
    }
   ],
   "source": [
    "all_books"
   ]
  },
  {
   "cell_type": "code",
   "execution_count": 43,
   "id": "38f0303c-f58a-49f4-b2cf-263ced6ae58f",
   "metadata": {},
   "outputs": [],
   "source": [
    "from functions import *"
   ]
  },
  {
   "cell_type": "code",
   "execution_count": 11,
   "id": "73fd8f64-5bd6-42ae-b2c1-c20a3439cee1",
   "metadata": {},
   "outputs": [],
   "source": [
    "# Loop through all the books to retrieve the graphs\n",
    "for book in all_books:\n",
    "    book_doc = book_text(book)\n",
    "    se_df = get_entities(book_doc)\n",
    "    se_df['char_entities'] = se_df['entities'].apply(lambda x:filter_entities(chars,x))\n",
    "    rels_df = create_relations(se_df,5)\n",
    "    rels_df = organise_entity_df(rels_df)\n",
    "    g = nx.from_pandas_edgelist(rels_df,source='source',target='target',edge_attr='weights',\n",
    "                            create_using=nx.Graph())\n",
    "    books_graph.append(g)"
   ]
  },
  {
   "cell_type": "code",
   "execution_count": 16,
   "id": "933031f8-9251-419d-adb1-b76ea3f82747",
   "metadata": {},
   "outputs": [],
   "source": [
    "import pickle\n",
    "\n",
    "with open('books_graphs.pkl','wb') as f:\n",
    "    pickle.dump(books_graph, f)"
   ]
  },
  {
   "cell_type": "code",
   "execution_count": 44,
   "id": "42ece024-f208-4d72-b9d7-f43209359111",
   "metadata": {},
   "outputs": [],
   "source": [
    "import pickle\n",
    "\n",
    "with open('books_graphs.pkl','rb') as f:\n",
    "    books_graph = pickle.load(f)"
   ]
  },
  {
   "cell_type": "code",
   "execution_count": 45,
   "id": "a585e80b-5e58-420a-9d21-1835f838e7bc",
   "metadata": {},
   "outputs": [],
   "source": [
    "evol = [nx.degree_centrality(g) for g in books_graph]"
   ]
  },
  {
   "cell_type": "code",
   "execution_count": 46,
   "id": "4cab6794-b5df-4b86-b385-f50f834f1655",
   "metadata": {},
   "outputs": [
    {
     "data": {
      "text/plain": [
       "<matplotlib.legend.Legend at 0x1f7034d99c0>"
      ]
     },
     "execution_count": 46,
     "metadata": {},
     "output_type": "execute_result"
    },
    {
     "data": {
      "image/png": "[encoded data removed]",
      "text/plain": [
       "<Figure size 432x288 with 1 Axes>"
      ]
     },
     "metadata": {
      "needs_background": "light"
     },
     "output_type": "display_data"
    }
   ],
   "source": [
    "degree_evol_df = pd.DataFrame.from_records(evol)\n",
    "degree_evol_df[['Harry','Ginny','Draco','Severus','Hermione','Albus','Ron']].plot()\n",
    "plt.legend(loc='upper right',bbox_to_anchor=(1.3,1))"
   ]
  },
  {
   "cell_type": "markdown",
   "id": "60524249-7b24-4f67-a679-1236ec58d3e1",
   "metadata": {},
   "source": [
    "\n",
    "\n",
    "## I would like to thank Thu Vu Ma'am for introducing this concept of network analysis"
   ]
  }
 ],
 "metadata": {
  "kernelspec": {
   "display_name": "Python 3 (ipykernel)",
   "language": "python",
   "name": "python3"
  },
  "language_info": {
   "codemirror_mode": {
    "name": "ipython",
    "version": 3
   },
   "file_extension": ".py",
   "mimetype": "text/x-python",
   "name": "python",
   "nbconvert_exporter": "python",
   "pygments_lexer": "ipython3",
   "version": "3.10.2"
  }
 },
 "nbformat": 4,
 "nbformat_minor": 5
}
